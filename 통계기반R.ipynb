{
  "nbformat": 4,
  "nbformat_minor": 0,
  "metadata": {
    "colab": {
      "name": "통계기반R.ipynb",
      "provenance": [],
      "authorship_tag": "ABX9TyPEvY8kBeP8vtcap/KyXLTj",
      "include_colab_link": true
    },
    "kernelspec": {
      "name": "ir",
      "display_name": "R"
    },
    "language_info": {
      "name": "R"
    }
  },
  "cells": [
    {
      "cell_type": "markdown",
      "metadata": {
        "id": "view-in-github",
        "colab_type": "text"
      },
      "source": [
        "<a href=\"https://colab.research.google.com/github/keunsooyoon/RClass202111/blob/main/%ED%86%B5%EA%B3%84%EA%B8%B0%EB%B0%98R.ipynb\" target=\"_parent\"><img src=\"https://colab.research.google.com/assets/colab-badge.svg\" alt=\"Open In Colab\"/></a>"
      ]
    },
    {
      "cell_type": "code",
      "metadata": {
        "id": "DUtgNQDd9Xmo"
      },
      "source": [
        "일반적인 통계기반 데이터 분석 흐름\n",
        "0. 연구 조사 - 사전지식 중요변수 설정, 가설 도출...(독립변수, 종속변수 )\n",
        "1. 가설설정\n",
        "2. 유의수준 설정 - 0.05\n",
        "3. 측정 도구 선정\n",
        "4. 데이터 수집 ( 설문지, 웹, sns 크롤링)\n",
        "5. 데이터 코딩\n",
        "6. 통계분석 (R, spss, sas...)\n",
        "7. 결과 보고서/논문\n",
        "\n",
        "# 1. 가설설정 hypothesis \n",
        "잠정적인 진술, 논리적으로 검정될수 있는 명제로  채택 또는 기각된다\n",
        ". \n",
        "귀무가설(영가설, H0) - 두 변수 간의 관계가 없다. 차이가 없다. 변화가 없다. 부정적 형태\n",
        "\n",
        "연구가설(대립가설,H1) - 두 변수 간의 관계가 있따. 차이가 있다. 변화가 있다. \n",
        "\n",
        "# 2. 유의수준 설정 - 0.05\n",
        "연구가설의 채택 또는 기각은 유의수준에 따라 채택 여부가 결정된다. \n",
        "분석 결과가 유의수준 내에 들어가면 가설 채택, 그렇지 않으면 기각된다. \n",
        "a(alpha) 또는 P probability 표기.\n",
        "일반적으로 0.05를 기준으로 한다. 의학 생명 분야는 0.01로 적용하기도 한다. \n",
        "\n",
        "(우연히 일어날 확율, 통계적으로 유의하다. )\n",
        "\n",
        "3. 측정 도구 선정\n",
        "척도 \n",
        "\n",
        "명목척도 - 의미 없는 숫자 , 단순한 구분을 위한 척도, 숫자의 양적 의미는 없다. \n",
        "           최종학력(1 초촐 2 중졸....)\n",
        "서열척도 - 높고 낮음, 순서값, 좋아하는 순위 , 정확한 양적의미는 아니다. \n",
        "           좋아하는 차종류((1) 우롱차 (2) 커피 (3)녹차))\n",
        "등간척도 - 균일한 간격으로 분할 측정, 5점척도 7점척도\n",
        "           5점 척도 1 전혀 그렇지 않다. 2 그렇지 않다. 3 보통이다. 4 그렇다......\n",
        "비율척도 - 0점을 출발점으로 속성을 양적으로 표현 (비율)\n",
        "           당의 몸무게는 ? (         )kg\n",
        "\n",
        "\n",
        "4. 데이터 수집 - 온라인과 오프라인을 통해 데이터를 수집 \n",
        "\n",
        "5. 데이터 코딩 - R, Python, SPSS, SAS, Excel....데이터를 입력하는 과정, 전처리 포함\n",
        "\n",
        "6. 통계분석 \n",
        "\n",
        "   빈도분석, 교차분석, 요인분석, 신뢰도분석, \n",
        "   상관관계분석( 변수간의 관련성), \n",
        "   회귀분석(독립변수가 종속변수에 미치는 영향 파악, 인과관계)\n",
        "   T 검정 (집단간의 평균의 차이 - 2집단)\n",
        "   분산분석 (집단간의 평균의 차이 - 3집단 이상)\n",
        "\n",
        "   - 용어 정의\n",
        "   전수 조사 - 모든 대상을 조사 분석, 특성을 정확히 반영, 많은시간 비용 소모\n",
        "   표본 조사 - 추출된 표본을 대상으로 분석, 적은 비용 , 오차발생 가능성 \n",
        "   정규 분포 - 평균값을 중앙으로 좌우대칭 형태, 가우스분포,\n",
        "             - 대부분 정규분포를 이룬다고 가정하고 통계분석을 진행한다. \n",
        "             - 표준 정규분포 : 평균을 0 표준 편차를 1로 고정하여 표준화한 결과P356\n",
        "    왜도 - 평균에서 좌우대칭의 비대칭 정도  분포의 기울어진 방향\n",
        "           왜도가 0보다 크면 오른쪽으로 비대칭, 0보다 작으면 왼쪽으로 비대칭 \n",
        "           0에 가까울수록 좌우대칭에 가깝다. \n",
        "    첨도 - 얼마나 뾰족한가 측정 0이면 정규분포, 0보다 크면 뾰족한 형태\n",
        "           0보다 작으면 완만한 형태 \n"
      ],
      "execution_count": null,
      "outputs": []
    },
    {
      "cell_type": "code",
      "metadata": {
        "id": "AULdxWPPKQRo"
      },
      "source": [
        "# 기술 통계분석 - 전체적인 데이터의 이해, 모집단의 특성을 유추\n",
        "\n",
        "# 1. 빈도분석 - 가장 기초적인 정보 제공으로 광범위하게 이용된다. 비율, 갯수\n",
        "\n",
        "# 2. 기술통계분석 - 빈도분석과 유사하지만 연속적 데이터 분석. \n",
        "#                   수치를 통해 데이터 분석\n",
        "\n"
      ],
      "execution_count": null,
      "outputs": []
    },
    {
      "cell_type": "code",
      "metadata": {
        "id": "X856v2S-LVoO"
      },
      "source": [
        "data <- read.csv(\"descriptive.csv\", header = TRUE)"
      ],
      "execution_count": 1,
      "outputs": []
    },
    {
      "cell_type": "code",
      "metadata": {
        "colab": {
          "base_uri": "https://localhost:8080/",
          "height": 286
        },
        "id": "v0OT48X-LmB2",
        "outputId": "ba818e8b-f01e-4c9b-f975-aab23265cfe0"
      },
      "source": [
        "head(data)"
      ],
      "execution_count": 3,
      "outputs": [
        {
          "output_type": "display_data",
          "data": {
            "text/plain": [
              "  resident gender age level cost type survey pass\n",
              "1  1       1      50   1    5.1  1    1       2  \n",
              "2  2       1      54   2    4.2  1    2       2  \n",
              "3 NA       1      62   2    4.7  1    1       1  \n",
              "4  4       2      50  NA    3.5  1    4       1  \n",
              "5  5       1      51   1    5.0  1    3       1  \n",
              "6  3       1      55   2    5.4  1    3      NA  "
            ],
            "text/latex": "A data.frame: 6 × 8\n\\begin{tabular}{r|llllllll}\n  & resident & gender & age & level & cost & type & survey & pass\\\\\n  & <int> & <int> & <int> & <int> & <dbl> & <int> & <int> & <int>\\\\\n\\hline\n\t1 &  1 & 1 & 50 &  1 & 5.1 & 1 & 1 &  2\\\\\n\t2 &  2 & 1 & 54 &  2 & 4.2 & 1 & 2 &  2\\\\\n\t3 & NA & 1 & 62 &  2 & 4.7 & 1 & 1 &  1\\\\\n\t4 &  4 & 2 & 50 & NA & 3.5 & 1 & 4 &  1\\\\\n\t5 &  5 & 1 & 51 &  1 & 5.0 & 1 & 3 &  1\\\\\n\t6 &  3 & 1 & 55 &  2 & 5.4 & 1 & 3 & NA\\\\\n\\end{tabular}\n",
            "text/markdown": "\nA data.frame: 6 × 8\n\n| <!--/--> | resident &lt;int&gt; | gender &lt;int&gt; | age &lt;int&gt; | level &lt;int&gt; | cost &lt;dbl&gt; | type &lt;int&gt; | survey &lt;int&gt; | pass &lt;int&gt; |\n|---|---|---|---|---|---|---|---|---|\n| 1 |  1 | 1 | 50 |  1 | 5.1 | 1 | 1 |  2 |\n| 2 |  2 | 1 | 54 |  2 | 4.2 | 1 | 2 |  2 |\n| 3 | NA | 1 | 62 |  2 | 4.7 | 1 | 1 |  1 |\n| 4 |  4 | 2 | 50 | NA | 3.5 | 1 | 4 |  1 |\n| 5 |  5 | 1 | 51 |  1 | 5.0 | 1 | 3 |  1 |\n| 6 |  3 | 1 | 55 |  2 | 5.4 | 1 | 3 | NA |\n\n",
            "text/html": [
              "<table class=\"dataframe\">\n",
              "<caption>A data.frame: 6 × 8</caption>\n",
              "<thead>\n",
              "\t<tr><th></th><th scope=col>resident</th><th scope=col>gender</th><th scope=col>age</th><th scope=col>level</th><th scope=col>cost</th><th scope=col>type</th><th scope=col>survey</th><th scope=col>pass</th></tr>\n",
              "\t<tr><th></th><th scope=col>&lt;int&gt;</th><th scope=col>&lt;int&gt;</th><th scope=col>&lt;int&gt;</th><th scope=col>&lt;int&gt;</th><th scope=col>&lt;dbl&gt;</th><th scope=col>&lt;int&gt;</th><th scope=col>&lt;int&gt;</th><th scope=col>&lt;int&gt;</th></tr>\n",
              "</thead>\n",
              "<tbody>\n",
              "\t<tr><th scope=row>1</th><td> 1</td><td>1</td><td>50</td><td> 1</td><td>5.1</td><td>1</td><td>1</td><td> 2</td></tr>\n",
              "\t<tr><th scope=row>2</th><td> 2</td><td>1</td><td>54</td><td> 2</td><td>4.2</td><td>1</td><td>2</td><td> 2</td></tr>\n",
              "\t<tr><th scope=row>3</th><td>NA</td><td>1</td><td>62</td><td> 2</td><td>4.7</td><td>1</td><td>1</td><td> 1</td></tr>\n",
              "\t<tr><th scope=row>4</th><td> 4</td><td>2</td><td>50</td><td>NA</td><td>3.5</td><td>1</td><td>4</td><td> 1</td></tr>\n",
              "\t<tr><th scope=row>5</th><td> 5</td><td>1</td><td>51</td><td> 1</td><td>5.0</td><td>1</td><td>3</td><td> 1</td></tr>\n",
              "\t<tr><th scope=row>6</th><td> 3</td><td>1</td><td>55</td><td> 2</td><td>5.4</td><td>1</td><td>3</td><td>NA</td></tr>\n",
              "</tbody>\n",
              "</table>\n"
            ]
          },
          "metadata": {}
        }
      ]
    },
    {
      "cell_type": "code",
      "metadata": {
        "colab": {
          "base_uri": "https://localhost:8080/",
          "height": 286
        },
        "id": "gYeQFlp8LrL1",
        "outputId": "efa98621-21bc-4d65-c5da-1928ec23dee3"
      },
      "source": [
        "tail(data)"
      ],
      "execution_count": 4,
      "outputs": [
        {
          "output_type": "display_data",
          "data": {
            "text/plain": [
              "    resident gender age level cost type survey pass\n",
              "295 2        1      65  1     3.5  1    NA      2  \n",
              "296 1        5      48  2     7.1  1    NA      2  \n",
              "297 3        1      55  3     6.1  1    NA      2  \n",
              "298 4        1      51  1     5.5  1    NA     NA  \n",
              "299 3        0      50  1     5.1  1     3      1  \n",
              "300 1        1      49  3     4.4  1    NA      2  "
            ],
            "text/latex": "A data.frame: 6 × 8\n\\begin{tabular}{r|llllllll}\n  & resident & gender & age & level & cost & type & survey & pass\\\\\n  & <int> & <int> & <int> & <int> & <dbl> & <int> & <int> & <int>\\\\\n\\hline\n\t295 & 2 & 1 & 65 & 1 & 3.5 & 1 & NA &  2\\\\\n\t296 & 1 & 5 & 48 & 2 & 7.1 & 1 & NA &  2\\\\\n\t297 & 3 & 1 & 55 & 3 & 6.1 & 1 & NA &  2\\\\\n\t298 & 4 & 1 & 51 & 1 & 5.5 & 1 & NA & NA\\\\\n\t299 & 3 & 0 & 50 & 1 & 5.1 & 1 &  3 &  1\\\\\n\t300 & 1 & 1 & 49 & 3 & 4.4 & 1 & NA &  2\\\\\n\\end{tabular}\n",
            "text/markdown": "\nA data.frame: 6 × 8\n\n| <!--/--> | resident &lt;int&gt; | gender &lt;int&gt; | age &lt;int&gt; | level &lt;int&gt; | cost &lt;dbl&gt; | type &lt;int&gt; | survey &lt;int&gt; | pass &lt;int&gt; |\n|---|---|---|---|---|---|---|---|---|\n| 295 | 2 | 1 | 65 | 1 | 3.5 | 1 | NA |  2 |\n| 296 | 1 | 5 | 48 | 2 | 7.1 | 1 | NA |  2 |\n| 297 | 3 | 1 | 55 | 3 | 6.1 | 1 | NA |  2 |\n| 298 | 4 | 1 | 51 | 1 | 5.5 | 1 | NA | NA |\n| 299 | 3 | 0 | 50 | 1 | 5.1 | 1 |  3 |  1 |\n| 300 | 1 | 1 | 49 | 3 | 4.4 | 1 | NA |  2 |\n\n",
            "text/html": [
              "<table class=\"dataframe\">\n",
              "<caption>A data.frame: 6 × 8</caption>\n",
              "<thead>\n",
              "\t<tr><th></th><th scope=col>resident</th><th scope=col>gender</th><th scope=col>age</th><th scope=col>level</th><th scope=col>cost</th><th scope=col>type</th><th scope=col>survey</th><th scope=col>pass</th></tr>\n",
              "\t<tr><th></th><th scope=col>&lt;int&gt;</th><th scope=col>&lt;int&gt;</th><th scope=col>&lt;int&gt;</th><th scope=col>&lt;int&gt;</th><th scope=col>&lt;dbl&gt;</th><th scope=col>&lt;int&gt;</th><th scope=col>&lt;int&gt;</th><th scope=col>&lt;int&gt;</th></tr>\n",
              "</thead>\n",
              "<tbody>\n",
              "\t<tr><th scope=row>295</th><td>2</td><td>1</td><td>65</td><td>1</td><td>3.5</td><td>1</td><td>NA</td><td> 2</td></tr>\n",
              "\t<tr><th scope=row>296</th><td>1</td><td>5</td><td>48</td><td>2</td><td>7.1</td><td>1</td><td>NA</td><td> 2</td></tr>\n",
              "\t<tr><th scope=row>297</th><td>3</td><td>1</td><td>55</td><td>3</td><td>6.1</td><td>1</td><td>NA</td><td> 2</td></tr>\n",
              "\t<tr><th scope=row>298</th><td>4</td><td>1</td><td>51</td><td>1</td><td>5.5</td><td>1</td><td>NA</td><td>NA</td></tr>\n",
              "\t<tr><th scope=row>299</th><td>3</td><td>0</td><td>50</td><td>1</td><td>5.1</td><td>1</td><td> 3</td><td> 1</td></tr>\n",
              "\t<tr><th scope=row>300</th><td>1</td><td>1</td><td>49</td><td>3</td><td>4.4</td><td>1</td><td>NA</td><td> 2</td></tr>\n",
              "</tbody>\n",
              "</table>\n"
            ]
          },
          "metadata": {}
        }
      ]
    },
    {
      "cell_type": "code",
      "metadata": {
        "colab": {
          "base_uri": "https://localhost:8080/",
          "height": 35
        },
        "id": "X8zesTY0LymC",
        "outputId": "0de71256-f0cb-4ce5-af56-6592b3fc5920"
      },
      "source": [
        "dim(data)"
      ],
      "execution_count": 6,
      "outputs": [
        {
          "output_type": "display_data",
          "data": {
            "text/plain": [
              "[1] 300   8"
            ],
            "text/latex": "\\begin{enumerate*}\n\\item 300\n\\item 8\n\\end{enumerate*}\n",
            "text/markdown": "1. 300\n2. 8\n\n\n",
            "text/html": [
              "<style>\n",
              ".list-inline {list-style: none; margin:0; padding: 0}\n",
              ".list-inline>li {display: inline-block}\n",
              ".list-inline>li:not(:last-child)::after {content: \"\\00b7\"; padding: 0 .5ex}\n",
              "</style>\n",
              "<ol class=list-inline><li>300</li><li>8</li></ol>\n"
            ]
          },
          "metadata": {}
        }
      ]
    },
    {
      "cell_type": "code",
      "metadata": {
        "colab": {
          "base_uri": "https://localhost:8080/"
        },
        "id": "lyn5I_fVL1k5",
        "outputId": "cc459e4a-6c1a-4259-f9aa-6d3881e7b0a8"
      },
      "source": [
        "str(data)"
      ],
      "execution_count": 7,
      "outputs": [
        {
          "output_type": "stream",
          "name": "stdout",
          "text": [
            "'data.frame':\t300 obs. of  8 variables:\n",
            " $ resident: int  1 2 NA 4 5 3 2 5 NA 2 ...\n",
            " $ gender  : int  1 1 1 2 1 1 2 1 1 1 ...\n",
            " $ age     : int  50 54 62 50 51 55 56 49 49 49 ...\n",
            " $ level   : int  1 2 2 NA 1 2 1 2 1 2 ...\n",
            " $ cost    : num  5.1 4.2 4.7 3.5 5 5.4 4.1 675 4.4 4.9 ...\n",
            " $ type    : int  1 1 1 1 1 1 1 NA 1 1 ...\n",
            " $ survey  : int  1 2 1 4 3 3 NA NA NA 1 ...\n",
            " $ pass    : int  2 2 1 1 1 NA 2 2 2 1 ...\n"
          ]
        }
      ]
    },
    {
      "cell_type": "code",
      "metadata": {
        "colab": {
          "base_uri": "https://localhost:8080/",
          "height": 35
        },
        "id": "M4Dy8VPzL64N",
        "outputId": "ceccb59e-c7eb-456d-f0d6-6730eb476d90"
      },
      "source": [
        "length(data)"
      ],
      "execution_count": 8,
      "outputs": [
        {
          "output_type": "display_data",
          "data": {
            "text/plain": [
              "[1] 8"
            ],
            "text/latex": "8",
            "text/markdown": "8",
            "text/html": [
              "8"
            ]
          },
          "metadata": {}
        }
      ]
    },
    {
      "cell_type": "code",
      "metadata": {
        "colab": {
          "base_uri": "https://localhost:8080/",
          "height": 35
        },
        "id": "jnARSIPRL-wL",
        "outputId": "752b2f20-cd53-46f5-dec1-01e503911672"
      },
      "source": [
        "length(data$survey)"
      ],
      "execution_count": 9,
      "outputs": [
        {
          "output_type": "display_data",
          "data": {
            "text/plain": [
              "[1] 300"
            ],
            "text/latex": "300",
            "text/markdown": "300",
            "text/html": [
              "300"
            ]
          },
          "metadata": {}
        }
      ]
    },
    {
      "cell_type": "code",
      "metadata": {
        "colab": {
          "base_uri": "https://localhost:8080/",
          "height": 316
        },
        "id": "vqvq8fZ2MDCW",
        "outputId": "3efd16ca-6252-4210-be3d-bdbdce540662"
      },
      "source": [
        "summary(data)"
      ],
      "execution_count": 10,
      "outputs": [
        {
          "output_type": "display_data",
          "data": {
            "text/plain": [
              "    resident         gender          age            level      \n",
              " Min.   :1.000   Min.   :0.00   Min.   :40.00   Min.   :1.000  \n",
              " 1st Qu.:1.000   1st Qu.:1.00   1st Qu.:48.00   1st Qu.:1.000  \n",
              " Median :2.000   Median :1.00   Median :53.00   Median :2.000  \n",
              " Mean   :2.233   Mean   :1.42   Mean   :53.88   Mean   :1.836  \n",
              " 3rd Qu.:3.000   3rd Qu.:2.00   3rd Qu.:60.00   3rd Qu.:2.000  \n",
              " Max.   :5.000   Max.   :5.00   Max.   :69.00   Max.   :3.000  \n",
              " NA's   :21                                     NA's   :13     \n",
              "      cost               type          survey          pass      \n",
              " Min.   :-457.200   Min.   :1.00   Min.   :1.00   Min.   :1.000  \n",
              " 1st Qu.:   4.425   1st Qu.:1.00   1st Qu.:2.00   1st Qu.:1.000  \n",
              " Median :   5.400   Median :1.00   Median :3.00   Median :1.000  \n",
              " Mean   :   8.752   Mean   :1.27   Mean   :2.61   Mean   :1.432  \n",
              " 3rd Qu.:   6.300   3rd Qu.:2.00   3rd Qu.:3.00   3rd Qu.:2.000  \n",
              " Max.   : 675.000   Max.   :2.00   Max.   :5.00   Max.   :2.000  \n",
              " NA's   :30         NA's   :26     NA's   :113    NA's   :20     "
            ]
          },
          "metadata": {}
        }
      ]
    },
    {
      "cell_type": "code",
      "metadata": {
        "colab": {
          "base_uri": "https://localhost:8080/",
          "height": 73
        },
        "id": "HU8hP1SsMGSG",
        "outputId": "a2902ec0-b74e-428a-d0cf-c15d3fc39649"
      },
      "source": [
        "table(data$gender)\n",
        "# 명목척도 자체는 요약통계의 결과에는 의미가 없지만 table()로 구해진 빈도는 의미가 있다. \n"
      ],
      "execution_count": 11,
      "outputs": [
        {
          "output_type": "display_data",
          "data": {
            "text/plain": [
              "\n",
              "  0   1   2   5 \n",
              "  2 173 124   1 "
            ]
          },
          "metadata": {}
        }
      ]
    },
    {
      "cell_type": "code",
      "metadata": {
        "colab": {
          "base_uri": "https://localhost:8080/",
          "height": 437
        },
        "id": "_EPWI2LWMaAX",
        "outputId": "3a47e1e7-f8af-44d5-82c8-ad543b90cb2f"
      },
      "source": [
        "# 이상치 제거\n",
        "data <- subset(data, gender == 1 | gender == 2)\n",
        "\n",
        "x <- table(data$gender)\n",
        "barplot(x)"
      ],
      "execution_count": 15,
      "outputs": [
        {
          "output_type": "display_data",
          "data": {
            "image/png": "[encoded data removed]",
            "text/plain": [
              "plot without title"
            ]
          },
          "metadata": {
            "image/png": {
              "width": 420,
              "height": 420
            }
          }
        }
      ]
    },
    {
      "cell_type": "code",
      "metadata": {
        "colab": {
          "base_uri": "https://localhost:8080/",
          "height": 73
        },
        "id": "WcLq386fNd5E",
        "outputId": "5c7eb331-fdd9-4564-e957-652e2ccb01d9"
      },
      "source": [
        "prop.table(x)"
      ],
      "execution_count": 16,
      "outputs": [
        {
          "output_type": "display_data",
          "data": {
            "text/plain": [
              "\n",
              "        1         2 \n",
              "0.5824916 0.4175084 "
            ]
          },
          "metadata": {}
        }
      ]
    },
    {
      "cell_type": "code",
      "metadata": {
        "colab": {
          "base_uri": "https://localhost:8080/",
          "height": 73
        },
        "id": "X64toDOnNpRZ",
        "outputId": "da1b3b02-ada1-4edb-e37f-8bf85e504480"
      },
      "source": [
        "y <- prop.table(x)\n",
        "\n",
        "round(y * 100, 2)"
      ],
      "execution_count": 21,
      "outputs": [
        {
          "output_type": "display_data",
          "data": {
            "text/plain": [
              "\n",
              "    1     2 \n",
              "58.25 41.75 "
            ]
          },
          "metadata": {}
        }
      ]
    },
    {
      "cell_type": "code",
      "metadata": {
        "colab": {
          "base_uri": "https://localhost:8080/",
          "height": 35
        },
        "id": "G12mBEASNcWB",
        "outputId": "cd7f3ad6-9f66-453e-a833-4de6f5bac926"
      },
      "source": [
        "# 서열 척도 기술 통계\n",
        "\n",
        "length(data$level)"
      ],
      "execution_count": 22,
      "outputs": [
        {
          "output_type": "display_data",
          "data": {
            "text/plain": [
              "[1] 297"
            ],
            "text/latex": "297",
            "text/markdown": "297",
            "text/html": [
              "297"
            ]
          },
          "metadata": {}
        }
      ]
    },
    {
      "cell_type": "code",
      "metadata": {
        "colab": {
          "base_uri": "https://localhost:8080/",
          "height": 55
        },
        "id": "9gBP_HtuOteT",
        "outputId": "9a9760a6-74e0-4de1-a194-a25cc4dd782b"
      },
      "source": [
        "summary(data$level)\n",
        "\n",
        "# 요약 통계량은 의미가 없다. "
      ],
      "execution_count": 24,
      "outputs": [
        {
          "output_type": "display_data",
          "data": {
            "text/plain": [
              "   Min. 1st Qu.  Median    Mean 3rd Qu.    Max.    NA's \n",
              "  1.000   1.000   2.000   1.842   2.000   3.000      13 "
            ]
          },
          "metadata": {}
        }
      ]
    },
    {
      "cell_type": "code",
      "metadata": {
        "colab": {
          "base_uri": "https://localhost:8080/",
          "height": 73
        },
        "id": "LRhsTYsjOzwU",
        "outputId": "b2a294c6-3cc6-4dc2-ce6a-a8006883a922"
      },
      "source": [
        "table(data$level)\n",
        "\n",
        "# 빈도 분석은 의미가 있다. \n",
        "# 1 고졸 2 대졸 3 대학원 졸"
      ],
      "execution_count": 25,
      "outputs": [
        {
          "output_type": "display_data",
          "data": {
            "text/plain": [
              "\n",
              "  1   2   3 \n",
              "115  99  70 "
            ]
          },
          "metadata": {}
        }
      ]
    },
    {
      "cell_type": "code",
      "metadata": {
        "colab": {
          "base_uri": "https://localhost:8080/",
          "height": 437
        },
        "id": "rEQjXNdLO9Kj",
        "outputId": "359c9f19-cac5-4635-9624-2931e6f74a8a"
      },
      "source": [
        "barplot(table(data$level))"
      ],
      "execution_count": 26,
      "outputs": [
        {
          "output_type": "display_data",
          "data": {
            "image/png": "[encoded data removed]",
            "text/plain": [
              "plot without title"
            ]
          },
          "metadata": {
            "image/png": {
              "width": 420,
              "height": 420
            }
          }
        }
      ]
    },
    {
      "cell_type": "code",
      "metadata": {
        "id": "oPybKlMnPi_G"
      },
      "source": [
        "# 등간 척도 -  속성의 간격이 일정한 값\n",
        "survey <- data$survey"
      ],
      "execution_count": 28,
      "outputs": []
    },
    {
      "cell_type": "code",
      "metadata": {
        "colab": {
          "base_uri": "https://localhost:8080/",
          "height": 55
        },
        "id": "XGG1wbp2Ptaz",
        "outputId": "fa68ab2e-7316-4b9e-e7c7-35d3dbaea639"
      },
      "source": [
        "summary(survey)\n",
        "\n",
        "# 등간척도는 기술통계량에 의미가 있다. "
      ],
      "execution_count": 29,
      "outputs": [
        {
          "output_type": "display_data",
          "data": {
            "text/plain": [
              "   Min. 1st Qu.  Median    Mean 3rd Qu.    Max.    NA's \n",
              "  1.000   2.000   3.000   2.605   3.000   5.000     112 "
            ]
          },
          "metadata": {}
        }
      ]
    },
    {
      "cell_type": "code",
      "metadata": {
        "colab": {
          "base_uri": "https://localhost:8080/",
          "height": 73
        },
        "id": "wc4soZrmQHIC",
        "outputId": "04d7081f-cc04-43bf-f434-3fa8065ff31e"
      },
      "source": [
        "x1 <- table(survey)\n",
        "x1\n",
        "\n",
        "# 등간척도는 빈도분석도 역시 의미가 있다. "
      ],
      "execution_count": 31,
      "outputs": [
        {
          "output_type": "display_data",
          "data": {
            "text/plain": [
              "survey\n",
              " 1  2  3  4  5 \n",
              "20 72 61 25  7 "
            ]
          },
          "metadata": {}
        }
      ]
    },
    {
      "cell_type": "code",
      "metadata": {
        "colab": {
          "base_uri": "https://localhost:8080/",
          "height": 437
        },
        "id": "OuODYPUyQZBS",
        "outputId": "d1d7c096-dbf7-4650-cd01-e6573baa4f2d"
      },
      "source": [
        "hist(survey)"
      ],
      "execution_count": 32,
      "outputs": [
        {
          "output_type": "display_data",
          "data": {
            "image/png": "[encoded data removed]",
            "text/plain": [
              "Plot with title “Histogram of survey”"
            ]
          },
          "metadata": {
            "image/png": {
              "width": 420,
              "height": 420
            }
          }
        }
      ]
    },
    {
      "cell_type": "code",
      "metadata": {
        "colab": {
          "base_uri": "https://localhost:8080/",
          "height": 437
        },
        "id": "m7qcSUrsQjHP",
        "outputId": "ec8ef0ef-b059-449a-9581-cd6079c7f4ef"
      },
      "source": [
        "pie(x1)"
      ],
      "execution_count": 33,
      "outputs": [
        {
          "output_type": "display_data",
          "data": {
            "image/png": "[encoded data removed]",
            "text/plain": [
              "plot without title"
            ]
          },
          "metadata": {
            "image/png": {
              "width": 420,
              "height": 420
            }
          }
        }
      ]
    },
    {
      "cell_type": "code",
      "metadata": {
        "colab": {
          "base_uri": "https://localhost:8080/",
          "height": 35
        },
        "id": "f56TYN9dQt0K",
        "outputId": "dfeb9d57-3ded-4712-b412-87d77a74bc7a"
      },
      "source": [
        "# 비율 척도 기술통계 - 원점 0이 존재하는 척도 사칙연산이 가능한 수치\n",
        "# 성적, 키, 나이, 무게, 인구수, 수량, 길이, 금액.....\n",
        "\n",
        "\n",
        "\n",
        "length(data$cost)"
      ],
      "execution_count": 35,
      "outputs": [
        {
          "output_type": "display_data",
          "data": {
            "text/plain": [
              "[1] 297"
            ],
            "text/latex": "297",
            "text/markdown": "297",
            "text/html": [
              "297"
            ]
          },
          "metadata": {}
        }
      ]
    },
    {
      "cell_type": "code",
      "metadata": {
        "colab": {
          "base_uri": "https://localhost:8080/",
          "height": 55
        },
        "id": "pObRrbyiRG3t",
        "outputId": "52f30e63-ff77-48a6-fc0d-d7709a7e10e3"
      },
      "source": [
        "summary(data$cost)"
      ],
      "execution_count": 36,
      "outputs": [
        {
          "output_type": "display_data",
          "data": {
            "text/plain": [
              "    Min.  1st Qu.   Median     Mean  3rd Qu.     Max.     NA's \n",
              "-457.200    4.400    5.400    8.784    6.300  675.000       30 "
            ]
          },
          "metadata": {}
        }
      ]
    },
    {
      "cell_type": "code",
      "metadata": {
        "colab": {
          "base_uri": "https://localhost:8080/",
          "height": 437
        },
        "id": "n4d8mLTrRWEv",
        "outputId": "404b6ac9-de0f-4715-8c19-588244a01f0c"
      },
      "source": [
        "plot(data$cost)"
      ],
      "execution_count": 37,
      "outputs": [
        {
          "output_type": "display_data",
          "data": {
            "image/png": "[encoded data removed]",
            "text/plain": [
              "plot without title"
            ]
          },
          "metadata": {
            "image/png": {
              "width": 420,
              "height": 420
            }
          }
        }
      ]
    },
    {
      "cell_type": "code",
      "metadata": {
        "colab": {
          "base_uri": "https://localhost:8080/",
          "height": 437
        },
        "id": "fYqS3hNrRgkN",
        "outputId": "129ff41d-d7c8-4a0a-e634-a623371d4c7c"
      },
      "source": [
        "data <- subset(data, data$cost >= 2 & data$cost <= 10)\n",
        "\n",
        "plot(data$cost)"
      ],
      "execution_count": 38,
      "outputs": [
        {
          "output_type": "display_data",
          "data": {
            "image/png": "[encoded data removed]",
            "text/plain": [
              "plot without title"
            ]
          },
          "metadata": {
            "image/png": {
              "width": 420,
              "height": 420
            }
          }
        }
      ]
    },
    {
      "cell_type": "code",
      "metadata": {
        "colab": {
          "base_uri": "https://localhost:8080/",
          "height": 35
        },
        "id": "ML-oILNBRLm8",
        "outputId": "ccbf4f7a-4ee1-4558-e886-8af90543938e"
      },
      "source": [
        "x <- data$cost\n",
        "mean(x)"
      ],
      "execution_count": 39,
      "outputs": [
        {
          "output_type": "display_data",
          "data": {
            "text/plain": [
              "[1] 5.354032"
            ],
            "text/latex": "5.35403225806452",
            "text/markdown": "5.35403225806452",
            "text/html": [
              "5.35403225806452"
            ]
          },
          "metadata": {}
        }
      ]
    },
    {
      "cell_type": "code",
      "metadata": {
        "colab": {
          "base_uri": "https://localhost:8080/",
          "height": 52
        },
        "id": "R5faZ0XJSA1N",
        "outputId": "4c14eda0-ceec-455a-dbe8-0387cc92d771"
      },
      "source": [
        "# 생활비 대표값 구하기 \n",
        "mean(x)\n",
        "median(x)"
      ],
      "execution_count": 41,
      "outputs": [
        {
          "output_type": "display_data",
          "data": {
            "text/plain": [
              "[1] 5.354032"
            ],
            "text/latex": "5.35403225806452",
            "text/markdown": "5.35403225806452",
            "text/html": [
              "5.35403225806452"
            ]
          },
          "metadata": {}
        },
        {
          "output_type": "display_data",
          "data": {
            "text/plain": [
              "[1] 5.4"
            ],
            "text/latex": "5.4",
            "text/markdown": "5.4",
            "text/html": [
              "5.4"
            ]
          },
          "metadata": {}
        }
      ]
    },
    {
      "cell_type": "code",
      "metadata": {
        "colab": {
          "base_uri": "https://localhost:8080/",
          "height": 208
        },
        "id": "7eYsusMwST1d",
        "outputId": "848d979a-d51e-4c4f-9292-557f6fe0e4da"
      },
      "source": [
        "sort(x)"
      ],
      "execution_count": 42,
      "outputs": [
        {
          "output_type": "display_data",
          "data": {
            "text/plain": [
              "  [1] 2.1 2.3 2.3 3.0 3.0 3.0 3.0 3.0 3.0 3.3 3.3 3.4 3.4 3.5 3.5 3.5 3.5 3.5\n",
              " [19] 3.8 3.8 3.8 3.9 3.9 3.9 4.0 4.0 4.0 4.0 4.0 4.0 4.0 4.0 4.0 4.0 4.0 4.0\n",
              " [37] 4.0 4.0 4.0 4.1 4.1 4.1 4.1 4.1 4.1 4.1 4.1 4.1 4.2 4.2 4.2 4.3 4.3 4.3\n",
              " [55] 4.3 4.3 4.4 4.4 4.4 4.4 4.5 4.6 4.6 4.6 4.6 4.6 4.7 4.7 4.7 4.7 4.7 4.7\n",
              " [73] 4.8 4.8 4.9 4.9 4.9 4.9 5.0 5.0 5.0 5.0 5.0 5.0 5.0 5.0 5.0 5.0 5.0 5.0\n",
              " [91] 5.0 5.0 5.0 5.0 5.0 5.0 5.1 5.1 5.1 5.1 5.1 5.1 5.1 5.1 5.1 5.1 5.2 5.2\n",
              "[109] 5.2 5.2 5.2 5.2 5.2 5.2 5.2 5.3 5.3 5.3 5.3 5.3 5.3 5.3 5.4 5.4 5.4 5.4\n",
              "[127] 5.4 5.5 5.5 5.5 5.5 5.5 5.5 5.5 5.5 5.6 5.6 5.6 5.6 5.7 5.7 5.7 5.7 5.7\n",
              "[145] 5.7 5.8 5.8 5.8 5.8 5.8 5.9 5.9 6.0 6.0 6.0 6.0 6.0 6.0 6.0 6.0 6.0 6.0\n",
              "[163] 6.0 6.0 6.0 6.0 6.1 6.1 6.1 6.1 6.1 6.1 6.1 6.1 6.2 6.2 6.2 6.2 6.2 6.2\n",
              "[181] 6.2 6.2 6.2 6.2 6.2 6.2 6.2 6.3 6.3 6.3 6.3 6.3 6.3 6.3 6.3 6.3 6.3 6.3\n",
              "[199] 6.3 6.3 6.3 6.3 6.3 6.4 6.4 6.4 6.4 6.4 6.4 6.4 6.4 6.4 6.4 6.4 6.5 6.5\n",
              "[217] 6.5 6.5 6.7 6.7 6.7 6.7 6.7 6.7 6.7 6.7 6.8 6.8 6.8 6.8 6.9 6.9 6.9 6.9\n",
              "[235] 7.0 7.0 7.0 7.1 7.1 7.1 7.2 7.2 7.7 7.7 7.7 7.7 7.9 7.9"
            ],
            "text/latex": "\\begin{enumerate*}\n\\item 2.1\n\\item 2.3\n\\item 2.3\n\\item 3\n\\item 3\n\\item 3\n\\item 3\n\\item 3\n\\item 3\n\\item 3.3\n\\item 3.3\n\\item 3.4\n\\item 3.4\n\\item 3.5\n\\item 3.5\n\\item 3.5\n\\item 3.5\n\\item 3.5\n\\item 3.8\n\\item 3.8\n\\item 3.8\n\\item 3.9\n\\item 3.9\n\\item 3.9\n\\item 4\n\\item 4\n\\item 4\n\\item 4\n\\item 4\n\\item 4\n\\item 4\n\\item 4\n\\item 4\n\\item 4\n\\item 4\n\\item 4\n\\item 4\n\\item 4\n\\item 4\n\\item 4.1\n\\item 4.1\n\\item 4.1\n\\item 4.1\n\\item 4.1\n\\item 4.1\n\\item 4.1\n\\item 4.1\n\\item 4.1\n\\item 4.2\n\\item 4.2\n\\item 4.2\n\\item 4.3\n\\item 4.3\n\\item 4.3\n\\item 4.3\n\\item 4.3\n\\item 4.4\n\\item 4.4\n\\item 4.4\n\\item 4.4\n\\item 4.5\n\\item 4.6\n\\item 4.6\n\\item 4.6\n\\item 4.6\n\\item 4.6\n\\item 4.7\n\\item 4.7\n\\item 4.7\n\\item 4.7\n\\item 4.7\n\\item 4.7\n\\item 4.8\n\\item 4.8\n\\item 4.9\n\\item 4.9\n\\item 4.9\n\\item 4.9\n\\item 5\n\\item 5\n\\item 5\n\\item 5\n\\item 5\n\\item 5\n\\item 5\n\\item 5\n\\item 5\n\\item 5\n\\item 5\n\\item 5\n\\item 5\n\\item 5\n\\item 5\n\\item 5\n\\item 5\n\\item 5\n\\item 5.1\n\\item 5.1\n\\item 5.1\n\\item 5.1\n\\item 5.1\n\\item 5.1\n\\item 5.1\n\\item 5.1\n\\item 5.1\n\\item 5.1\n\\item 5.2\n\\item 5.2\n\\item 5.2\n\\item 5.2\n\\item 5.2\n\\item 5.2\n\\item 5.2\n\\item 5.2\n\\item 5.2\n\\item 5.3\n\\item 5.3\n\\item 5.3\n\\item 5.3\n\\item 5.3\n\\item 5.3\n\\item 5.3\n\\item 5.4\n\\item 5.4\n\\item 5.4\n\\item 5.4\n\\item 5.4\n\\item 5.5\n\\item 5.5\n\\item 5.5\n\\item 5.5\n\\item 5.5\n\\item 5.5\n\\item 5.5\n\\item 5.5\n\\item 5.6\n\\item 5.6\n\\item 5.6\n\\item 5.6\n\\item 5.7\n\\item 5.7\n\\item 5.7\n\\item 5.7\n\\item 5.7\n\\item 5.7\n\\item 5.8\n\\item 5.8\n\\item 5.8\n\\item 5.8\n\\item 5.8\n\\item 5.9\n\\item 5.9\n\\item 6\n\\item 6\n\\item 6\n\\item 6\n\\item 6\n\\item 6\n\\item 6\n\\item 6\n\\item 6\n\\item 6\n\\item 6\n\\item 6\n\\item 6\n\\item 6\n\\item 6.1\n\\item 6.1\n\\item 6.1\n\\item 6.1\n\\item 6.1\n\\item 6.1\n\\item 6.1\n\\item 6.1\n\\item 6.2\n\\item 6.2\n\\item 6.2\n\\item 6.2\n\\item 6.2\n\\item 6.2\n\\item 6.2\n\\item 6.2\n\\item 6.2\n\\item 6.2\n\\item 6.2\n\\item 6.2\n\\item 6.2\n\\item 6.3\n\\item 6.3\n\\item 6.3\n\\item 6.3\n\\item 6.3\n\\item 6.3\n\\item 6.3\n\\item 6.3\n\\item 6.3\n\\item 6.3\n\\item 6.3\n\\item 6.3\n\\item 6.3\n\\item 6.3\n\\item 6.3\n\\item 6.3\n\\item 6.4\n\\item 6.4\n\\item 6.4\n\\item 6.4\n\\item 6.4\n\\item 6.4\n\\item 6.4\n\\item 6.4\n\\item 6.4\n\\item 6.4\n\\item 6.4\n\\item 6.5\n\\item 6.5\n\\item 6.5\n\\item 6.5\n\\item 6.7\n\\item 6.7\n\\item 6.7\n\\item 6.7\n\\item 6.7\n\\item 6.7\n\\item 6.7\n\\item 6.7\n\\item 6.8\n\\item 6.8\n\\item 6.8\n\\item 6.8\n\\item 6.9\n\\item 6.9\n\\item 6.9\n\\item 6.9\n\\item 7\n\\item 7\n\\item 7\n\\item 7.1\n\\item 7.1\n\\item 7.1\n\\item 7.2\n\\item 7.2\n\\item 7.7\n\\item 7.7\n\\item 7.7\n\\item 7.7\n\\item 7.9\n\\item 7.9\n\\end{enumerate*}\n",
            "text/markdown": "1. 2.1\n2. 2.3\n3. 2.3\n4. 3\n5. 3\n6. 3\n7. 3\n8. 3\n9. 3\n10. 3.3\n11. 3.3\n12. 3.4\n13. 3.4\n14. 3.5\n15. 3.5\n16. 3.5\n17. 3.5\n18. 3.5\n19. 3.8\n20. 3.8\n21. 3.8\n22. 3.9\n23. 3.9\n24. 3.9\n25. 4\n26. 4\n27. 4\n28. 4\n29. 4\n30. 4\n31. 4\n32. 4\n33. 4\n34. 4\n35. 4\n36. 4\n37. 4\n38. 4\n39. 4\n40. 4.1\n41. 4.1\n42. 4.1\n43. 4.1\n44. 4.1\n45. 4.1\n46. 4.1\n47. 4.1\n48. 4.1\n49. 4.2\n50. 4.2\n51. 4.2\n52. 4.3\n53. 4.3\n54. 4.3\n55. 4.3\n56. 4.3\n57. 4.4\n58. 4.4\n59. 4.4\n60. 4.4\n61. 4.5\n62. 4.6\n63. 4.6\n64. 4.6\n65. 4.6\n66. 4.6\n67. 4.7\n68. 4.7\n69. 4.7\n70. 4.7\n71. 4.7\n72. 4.7\n73. 4.8\n74. 4.8\n75. 4.9\n76. 4.9\n77. 4.9\n78. 4.9\n79. 5\n80. 5\n81. 5\n82. 5\n83. 5\n84. 5\n85. 5\n86. 5\n87. 5\n88. 5\n89. 5\n90. 5\n91. 5\n92. 5\n93. 5\n94. 5\n95. 5\n96. 5\n97. 5.1\n98. 5.1\n99. 5.1\n100. 5.1\n101. 5.1\n102. 5.1\n103. 5.1\n104. 5.1\n105. 5.1\n106. 5.1\n107. 5.2\n108. 5.2\n109. 5.2\n110. 5.2\n111. 5.2\n112. 5.2\n113. 5.2\n114. 5.2\n115. 5.2\n116. 5.3\n117. 5.3\n118. 5.3\n119. 5.3\n120. 5.3\n121. 5.3\n122. 5.3\n123. 5.4\n124. 5.4\n125. 5.4\n126. 5.4\n127. 5.4\n128. 5.5\n129. 5.5\n130. 5.5\n131. 5.5\n132. 5.5\n133. 5.5\n134. 5.5\n135. 5.5\n136. 5.6\n137. 5.6\n138. 5.6\n139. 5.6\n140. 5.7\n141. 5.7\n142. 5.7\n143. 5.7\n144. 5.7\n145. 5.7\n146. 5.8\n147. 5.8\n148. 5.8\n149. 5.8\n150. 5.8\n151. 5.9\n152. 5.9\n153. 6\n154. 6\n155. 6\n156. 6\n157. 6\n158. 6\n159. 6\n160. 6\n161. 6\n162. 6\n163. 6\n164. 6\n165. 6\n166. 6\n167. 6.1\n168. 6.1\n169. 6.1\n170. 6.1\n171. 6.1\n172. 6.1\n173. 6.1\n174. 6.1\n175. 6.2\n176. 6.2\n177. 6.2\n178. 6.2\n179. 6.2\n180. 6.2\n181. 6.2\n182. 6.2\n183. 6.2\n184. 6.2\n185. 6.2\n186. 6.2\n187. 6.2\n188. 6.3\n189. 6.3\n190. 6.3\n191. 6.3\n192. 6.3\n193. 6.3\n194. 6.3\n195. 6.3\n196. 6.3\n197. 6.3\n198. 6.3\n199. 6.3\n200. 6.3\n201. 6.3\n202. 6.3\n203. 6.3\n204. 6.4\n205. 6.4\n206. 6.4\n207. 6.4\n208. 6.4\n209. 6.4\n210. 6.4\n211. 6.4\n212. 6.4\n213. 6.4\n214. 6.4\n215. 6.5\n216. 6.5\n217. 6.5\n218. 6.5\n219. 6.7\n220. 6.7\n221. 6.7\n222. 6.7\n223. 6.7\n224. 6.7\n225. 6.7\n226. 6.7\n227. 6.8\n228. 6.8\n229. 6.8\n230. 6.8\n231. 6.9\n232. 6.9\n233. 6.9\n234. 6.9\n235. 7\n236. 7\n237. 7\n238. 7.1\n239. 7.1\n240. 7.1\n241. 7.2\n242. 7.2\n243. 7.7\n244. 7.7\n245. 7.7\n246. 7.7\n247. 7.9\n248. 7.9\n\n\n",
            "text/html": [
              "<style>\n",
              ".list-inline {list-style: none; margin:0; padding: 0}\n",
              ".list-inline>li {display: inline-block}\n",
              ".list-inline>li:not(:last-child)::after {content: \"\\00b7\"; padding: 0 .5ex}\n",
              "</style>\n",
              "<ol class=list-inline><li>2.1</li><li>2.3</li><li>2.3</li><li>3</li><li>3</li><li>3</li><li>3</li><li>3</li><li>3</li><li>3.3</li><li>3.3</li><li>3.4</li><li>3.4</li><li>3.5</li><li>3.5</li><li>3.5</li><li>3.5</li><li>3.5</li><li>3.8</li><li>3.8</li><li>3.8</li><li>3.9</li><li>3.9</li><li>3.9</li><li>4</li><li>4</li><li>4</li><li>4</li><li>4</li><li>4</li><li>4</li><li>4</li><li>4</li><li>4</li><li>4</li><li>4</li><li>4</li><li>4</li><li>4</li><li>4.1</li><li>4.1</li><li>4.1</li><li>4.1</li><li>4.1</li><li>4.1</li><li>4.1</li><li>4.1</li><li>4.1</li><li>4.2</li><li>4.2</li><li>4.2</li><li>4.3</li><li>4.3</li><li>4.3</li><li>4.3</li><li>4.3</li><li>4.4</li><li>4.4</li><li>4.4</li><li>4.4</li><li>4.5</li><li>4.6</li><li>4.6</li><li>4.6</li><li>4.6</li><li>4.6</li><li>4.7</li><li>4.7</li><li>4.7</li><li>4.7</li><li>4.7</li><li>4.7</li><li>4.8</li><li>4.8</li><li>4.9</li><li>4.9</li><li>4.9</li><li>4.9</li><li>5</li><li>5</li><li>5</li><li>5</li><li>5</li><li>5</li><li>5</li><li>5</li><li>5</li><li>5</li><li>5</li><li>5</li><li>5</li><li>5</li><li>5</li><li>5</li><li>5</li><li>5</li><li>5.1</li><li>5.1</li><li>5.1</li><li>5.1</li><li>5.1</li><li>5.1</li><li>5.1</li><li>5.1</li><li>5.1</li><li>5.1</li><li>5.2</li><li>5.2</li><li>5.2</li><li>5.2</li><li>5.2</li><li>5.2</li><li>5.2</li><li>5.2</li><li>5.2</li><li>5.3</li><li>5.3</li><li>5.3</li><li>5.3</li><li>5.3</li><li>5.3</li><li>5.3</li><li>5.4</li><li>5.4</li><li>5.4</li><li>5.4</li><li>5.4</li><li>5.5</li><li>5.5</li><li>5.5</li><li>5.5</li><li>5.5</li><li>5.5</li><li>5.5</li><li>5.5</li><li>5.6</li><li>5.6</li><li>5.6</li><li>5.6</li><li>5.7</li><li>5.7</li><li>5.7</li><li>5.7</li><li>5.7</li><li>5.7</li><li>5.8</li><li>5.8</li><li>5.8</li><li>5.8</li><li>5.8</li><li>5.9</li><li>5.9</li><li>6</li><li>6</li><li>6</li><li>6</li><li>6</li><li>6</li><li>6</li><li>6</li><li>6</li><li>6</li><li>6</li><li>6</li><li>6</li><li>6</li><li>6.1</li><li>6.1</li><li>6.1</li><li>6.1</li><li>6.1</li><li>6.1</li><li>6.1</li><li>6.1</li><li>6.2</li><li>6.2</li><li>6.2</li><li>6.2</li><li>6.2</li><li>6.2</li><li>6.2</li><li>6.2</li><li>6.2</li><li>6.2</li><li>6.2</li><li>6.2</li><li>6.2</li><li>6.3</li><li>6.3</li><li>6.3</li><li>6.3</li><li>6.3</li><li>6.3</li><li>6.3</li><li>6.3</li><li>6.3</li><li>6.3</li><li>6.3</li><li>6.3</li><li>6.3</li><li>6.3</li><li>6.3</li><li>6.3</li><li>6.4</li><li>6.4</li><li>6.4</li><li>6.4</li><li>6.4</li><li>6.4</li><li>6.4</li><li>6.4</li><li>6.4</li><li>6.4</li><li>6.4</li><li>6.5</li><li>6.5</li><li>6.5</li><li>6.5</li><li>6.7</li><li>6.7</li><li>6.7</li><li>6.7</li><li>6.7</li><li>6.7</li><li>6.7</li><li>6.7</li><li>6.8</li><li>6.8</li><li>6.8</li><li>6.8</li><li>6.9</li><li>6.9</li><li>6.9</li><li>6.9</li><li>7</li><li>7</li><li>7</li><li>7.1</li><li>7.1</li><li>7.1</li><li>7.2</li><li>7.2</li><li>7.7</li><li>7.7</li><li>7.7</li><li>7.7</li><li>7.9</li><li>7.9</li></ol>\n"
            ]
          },
          "metadata": {}
        }
      ]
    },
    {
      "cell_type": "code",
      "metadata": {
        "colab": {
          "base_uri": "https://localhost:8080/",
          "height": 208
        },
        "id": "8yhpsL8PSarv",
        "outputId": "624249e1-44b0-451e-d104-3bd7fb647369"
      },
      "source": [
        "sort(x, decreasing =  T)"
      ],
      "execution_count": 43,
      "outputs": [
        {
          "output_type": "display_data",
          "data": {
            "text/plain": [
              "  [1] 7.9 7.9 7.7 7.7 7.7 7.7 7.2 7.2 7.1 7.1 7.1 7.0 7.0 7.0 6.9 6.9 6.9 6.9\n",
              " [19] 6.8 6.8 6.8 6.8 6.7 6.7 6.7 6.7 6.7 6.7 6.7 6.7 6.5 6.5 6.5 6.5 6.4 6.4\n",
              " [37] 6.4 6.4 6.4 6.4 6.4 6.4 6.4 6.4 6.4 6.3 6.3 6.3 6.3 6.3 6.3 6.3 6.3 6.3\n",
              " [55] 6.3 6.3 6.3 6.3 6.3 6.3 6.3 6.2 6.2 6.2 6.2 6.2 6.2 6.2 6.2 6.2 6.2 6.2\n",
              " [73] 6.2 6.2 6.1 6.1 6.1 6.1 6.1 6.1 6.1 6.1 6.0 6.0 6.0 6.0 6.0 6.0 6.0 6.0\n",
              " [91] 6.0 6.0 6.0 6.0 6.0 6.0 5.9 5.9 5.8 5.8 5.8 5.8 5.8 5.7 5.7 5.7 5.7 5.7\n",
              "[109] 5.7 5.6 5.6 5.6 5.6 5.5 5.5 5.5 5.5 5.5 5.5 5.5 5.5 5.4 5.4 5.4 5.4 5.4\n",
              "[127] 5.3 5.3 5.3 5.3 5.3 5.3 5.3 5.2 5.2 5.2 5.2 5.2 5.2 5.2 5.2 5.2 5.1 5.1\n",
              "[145] 5.1 5.1 5.1 5.1 5.1 5.1 5.1 5.1 5.0 5.0 5.0 5.0 5.0 5.0 5.0 5.0 5.0 5.0\n",
              "[163] 5.0 5.0 5.0 5.0 5.0 5.0 5.0 5.0 4.9 4.9 4.9 4.9 4.8 4.8 4.7 4.7 4.7 4.7\n",
              "[181] 4.7 4.7 4.6 4.6 4.6 4.6 4.6 4.5 4.4 4.4 4.4 4.4 4.3 4.3 4.3 4.3 4.3 4.2\n",
              "[199] 4.2 4.2 4.1 4.1 4.1 4.1 4.1 4.1 4.1 4.1 4.1 4.0 4.0 4.0 4.0 4.0 4.0 4.0\n",
              "[217] 4.0 4.0 4.0 4.0 4.0 4.0 4.0 4.0 3.9 3.9 3.9 3.8 3.8 3.8 3.5 3.5 3.5 3.5\n",
              "[235] 3.5 3.4 3.4 3.3 3.3 3.0 3.0 3.0 3.0 3.0 3.0 2.3 2.3 2.1"
            ],
            "text/latex": "\\begin{enumerate*}\n\\item 7.9\n\\item 7.9\n\\item 7.7\n\\item 7.7\n\\item 7.7\n\\item 7.7\n\\item 7.2\n\\item 7.2\n\\item 7.1\n\\item 7.1\n\\item 7.1\n\\item 7\n\\item 7\n\\item 7\n\\item 6.9\n\\item 6.9\n\\item 6.9\n\\item 6.9\n\\item 6.8\n\\item 6.8\n\\item 6.8\n\\item 6.8\n\\item 6.7\n\\item 6.7\n\\item 6.7\n\\item 6.7\n\\item 6.7\n\\item 6.7\n\\item 6.7\n\\item 6.7\n\\item 6.5\n\\item 6.5\n\\item 6.5\n\\item 6.5\n\\item 6.4\n\\item 6.4\n\\item 6.4\n\\item 6.4\n\\item 6.4\n\\item 6.4\n\\item 6.4\n\\item 6.4\n\\item 6.4\n\\item 6.4\n\\item 6.4\n\\item 6.3\n\\item 6.3\n\\item 6.3\n\\item 6.3\n\\item 6.3\n\\item 6.3\n\\item 6.3\n\\item 6.3\n\\item 6.3\n\\item 6.3\n\\item 6.3\n\\item 6.3\n\\item 6.3\n\\item 6.3\n\\item 6.3\n\\item 6.3\n\\item 6.2\n\\item 6.2\n\\item 6.2\n\\item 6.2\n\\item 6.2\n\\item 6.2\n\\item 6.2\n\\item 6.2\n\\item 6.2\n\\item 6.2\n\\item 6.2\n\\item 6.2\n\\item 6.2\n\\item 6.1\n\\item 6.1\n\\item 6.1\n\\item 6.1\n\\item 6.1\n\\item 6.1\n\\item 6.1\n\\item 6.1\n\\item 6\n\\item 6\n\\item 6\n\\item 6\n\\item 6\n\\item 6\n\\item 6\n\\item 6\n\\item 6\n\\item 6\n\\item 6\n\\item 6\n\\item 6\n\\item 6\n\\item 5.9\n\\item 5.9\n\\item 5.8\n\\item 5.8\n\\item 5.8\n\\item 5.8\n\\item 5.8\n\\item 5.7\n\\item 5.7\n\\item 5.7\n\\item 5.7\n\\item 5.7\n\\item 5.7\n\\item 5.6\n\\item 5.6\n\\item 5.6\n\\item 5.6\n\\item 5.5\n\\item 5.5\n\\item 5.5\n\\item 5.5\n\\item 5.5\n\\item 5.5\n\\item 5.5\n\\item 5.5\n\\item 5.4\n\\item 5.4\n\\item 5.4\n\\item 5.4\n\\item 5.4\n\\item 5.3\n\\item 5.3\n\\item 5.3\n\\item 5.3\n\\item 5.3\n\\item 5.3\n\\item 5.3\n\\item 5.2\n\\item 5.2\n\\item 5.2\n\\item 5.2\n\\item 5.2\n\\item 5.2\n\\item 5.2\n\\item 5.2\n\\item 5.2\n\\item 5.1\n\\item 5.1\n\\item 5.1\n\\item 5.1\n\\item 5.1\n\\item 5.1\n\\item 5.1\n\\item 5.1\n\\item 5.1\n\\item 5.1\n\\item 5\n\\item 5\n\\item 5\n\\item 5\n\\item 5\n\\item 5\n\\item 5\n\\item 5\n\\item 5\n\\item 5\n\\item 5\n\\item 5\n\\item 5\n\\item 5\n\\item 5\n\\item 5\n\\item 5\n\\item 5\n\\item 4.9\n\\item 4.9\n\\item 4.9\n\\item 4.9\n\\item 4.8\n\\item 4.8\n\\item 4.7\n\\item 4.7\n\\item 4.7\n\\item 4.7\n\\item 4.7\n\\item 4.7\n\\item 4.6\n\\item 4.6\n\\item 4.6\n\\item 4.6\n\\item 4.6\n\\item 4.5\n\\item 4.4\n\\item 4.4\n\\item 4.4\n\\item 4.4\n\\item 4.3\n\\item 4.3\n\\item 4.3\n\\item 4.3\n\\item 4.3\n\\item 4.2\n\\item 4.2\n\\item 4.2\n\\item 4.1\n\\item 4.1\n\\item 4.1\n\\item 4.1\n\\item 4.1\n\\item 4.1\n\\item 4.1\n\\item 4.1\n\\item 4.1\n\\item 4\n\\item 4\n\\item 4\n\\item 4\n\\item 4\n\\item 4\n\\item 4\n\\item 4\n\\item 4\n\\item 4\n\\item 4\n\\item 4\n\\item 4\n\\item 4\n\\item 4\n\\item 3.9\n\\item 3.9\n\\item 3.9\n\\item 3.8\n\\item 3.8\n\\item 3.8\n\\item 3.5\n\\item 3.5\n\\item 3.5\n\\item 3.5\n\\item 3.5\n\\item 3.4\n\\item 3.4\n\\item 3.3\n\\item 3.3\n\\item 3\n\\item 3\n\\item 3\n\\item 3\n\\item 3\n\\item 3\n\\item 2.3\n\\item 2.3\n\\item 2.1\n\\end{enumerate*}\n",
            "text/markdown": "1. 7.9\n2. 7.9\n3. 7.7\n4. 7.7\n5. 7.7\n6. 7.7\n7. 7.2\n8. 7.2\n9. 7.1\n10. 7.1\n11. 7.1\n12. 7\n13. 7\n14. 7\n15. 6.9\n16. 6.9\n17. 6.9\n18. 6.9\n19. 6.8\n20. 6.8\n21. 6.8\n22. 6.8\n23. 6.7\n24. 6.7\n25. 6.7\n26. 6.7\n27. 6.7\n28. 6.7\n29. 6.7\n30. 6.7\n31. 6.5\n32. 6.5\n33. 6.5\n34. 6.5\n35. 6.4\n36. 6.4\n37. 6.4\n38. 6.4\n39. 6.4\n40. 6.4\n41. 6.4\n42. 6.4\n43. 6.4\n44. 6.4\n45. 6.4\n46. 6.3\n47. 6.3\n48. 6.3\n49. 6.3\n50. 6.3\n51. 6.3\n52. 6.3\n53. 6.3\n54. 6.3\n55. 6.3\n56. 6.3\n57. 6.3\n58. 6.3\n59. 6.3\n60. 6.3\n61. 6.3\n62. 6.2\n63. 6.2\n64. 6.2\n65. 6.2\n66. 6.2\n67. 6.2\n68. 6.2\n69. 6.2\n70. 6.2\n71. 6.2\n72. 6.2\n73. 6.2\n74. 6.2\n75. 6.1\n76. 6.1\n77. 6.1\n78. 6.1\n79. 6.1\n80. 6.1\n81. 6.1\n82. 6.1\n83. 6\n84. 6\n85. 6\n86. 6\n87. 6\n88. 6\n89. 6\n90. 6\n91. 6\n92. 6\n93. 6\n94. 6\n95. 6\n96. 6\n97. 5.9\n98. 5.9\n99. 5.8\n100. 5.8\n101. 5.8\n102. 5.8\n103. 5.8\n104. 5.7\n105. 5.7\n106. 5.7\n107. 5.7\n108. 5.7\n109. 5.7\n110. 5.6\n111. 5.6\n112. 5.6\n113. 5.6\n114. 5.5\n115. 5.5\n116. 5.5\n117. 5.5\n118. 5.5\n119. 5.5\n120. 5.5\n121. 5.5\n122. 5.4\n123. 5.4\n124. 5.4\n125. 5.4\n126. 5.4\n127. 5.3\n128. 5.3\n129. 5.3\n130. 5.3\n131. 5.3\n132. 5.3\n133. 5.3\n134. 5.2\n135. 5.2\n136. 5.2\n137. 5.2\n138. 5.2\n139. 5.2\n140. 5.2\n141. 5.2\n142. 5.2\n143. 5.1\n144. 5.1\n145. 5.1\n146. 5.1\n147. 5.1\n148. 5.1\n149. 5.1\n150. 5.1\n151. 5.1\n152. 5.1\n153. 5\n154. 5\n155. 5\n156. 5\n157. 5\n158. 5\n159. 5\n160. 5\n161. 5\n162. 5\n163. 5\n164. 5\n165. 5\n166. 5\n167. 5\n168. 5\n169. 5\n170. 5\n171. 4.9\n172. 4.9\n173. 4.9\n174. 4.9\n175. 4.8\n176. 4.8\n177. 4.7\n178. 4.7\n179. 4.7\n180. 4.7\n181. 4.7\n182. 4.7\n183. 4.6\n184. 4.6\n185. 4.6\n186. 4.6\n187. 4.6\n188. 4.5\n189. 4.4\n190. 4.4\n191. 4.4\n192. 4.4\n193. 4.3\n194. 4.3\n195. 4.3\n196. 4.3\n197. 4.3\n198. 4.2\n199. 4.2\n200. 4.2\n201. 4.1\n202. 4.1\n203. 4.1\n204. 4.1\n205. 4.1\n206. 4.1\n207. 4.1\n208. 4.1\n209. 4.1\n210. 4\n211. 4\n212. 4\n213. 4\n214. 4\n215. 4\n216. 4\n217. 4\n218. 4\n219. 4\n220. 4\n221. 4\n222. 4\n223. 4\n224. 4\n225. 3.9\n226. 3.9\n227. 3.9\n228. 3.8\n229. 3.8\n230. 3.8\n231. 3.5\n232. 3.5\n233. 3.5\n234. 3.5\n235. 3.5\n236. 3.4\n237. 3.4\n238. 3.3\n239. 3.3\n240. 3\n241. 3\n242. 3\n243. 3\n244. 3\n245. 3\n246. 2.3\n247. 2.3\n248. 2.1\n\n\n",
            "text/html": [
              "<style>\n",
              ".list-inline {list-style: none; margin:0; padding: 0}\n",
              ".list-inline>li {display: inline-block}\n",
              ".list-inline>li:not(:last-child)::after {content: \"\\00b7\"; padding: 0 .5ex}\n",
              "</style>\n",
              "<ol class=list-inline><li>7.9</li><li>7.9</li><li>7.7</li><li>7.7</li><li>7.7</li><li>7.7</li><li>7.2</li><li>7.2</li><li>7.1</li><li>7.1</li><li>7.1</li><li>7</li><li>7</li><li>7</li><li>6.9</li><li>6.9</li><li>6.9</li><li>6.9</li><li>6.8</li><li>6.8</li><li>6.8</li><li>6.8</li><li>6.7</li><li>6.7</li><li>6.7</li><li>6.7</li><li>6.7</li><li>6.7</li><li>6.7</li><li>6.7</li><li>6.5</li><li>6.5</li><li>6.5</li><li>6.5</li><li>6.4</li><li>6.4</li><li>6.4</li><li>6.4</li><li>6.4</li><li>6.4</li><li>6.4</li><li>6.4</li><li>6.4</li><li>6.4</li><li>6.4</li><li>6.3</li><li>6.3</li><li>6.3</li><li>6.3</li><li>6.3</li><li>6.3</li><li>6.3</li><li>6.3</li><li>6.3</li><li>6.3</li><li>6.3</li><li>6.3</li><li>6.3</li><li>6.3</li><li>6.3</li><li>6.3</li><li>6.2</li><li>6.2</li><li>6.2</li><li>6.2</li><li>6.2</li><li>6.2</li><li>6.2</li><li>6.2</li><li>6.2</li><li>6.2</li><li>6.2</li><li>6.2</li><li>6.2</li><li>6.1</li><li>6.1</li><li>6.1</li><li>6.1</li><li>6.1</li><li>6.1</li><li>6.1</li><li>6.1</li><li>6</li><li>6</li><li>6</li><li>6</li><li>6</li><li>6</li><li>6</li><li>6</li><li>6</li><li>6</li><li>6</li><li>6</li><li>6</li><li>6</li><li>5.9</li><li>5.9</li><li>5.8</li><li>5.8</li><li>5.8</li><li>5.8</li><li>5.8</li><li>5.7</li><li>5.7</li><li>5.7</li><li>5.7</li><li>5.7</li><li>5.7</li><li>5.6</li><li>5.6</li><li>5.6</li><li>5.6</li><li>5.5</li><li>5.5</li><li>5.5</li><li>5.5</li><li>5.5</li><li>5.5</li><li>5.5</li><li>5.5</li><li>5.4</li><li>5.4</li><li>5.4</li><li>5.4</li><li>5.4</li><li>5.3</li><li>5.3</li><li>5.3</li><li>5.3</li><li>5.3</li><li>5.3</li><li>5.3</li><li>5.2</li><li>5.2</li><li>5.2</li><li>5.2</li><li>5.2</li><li>5.2</li><li>5.2</li><li>5.2</li><li>5.2</li><li>5.1</li><li>5.1</li><li>5.1</li><li>5.1</li><li>5.1</li><li>5.1</li><li>5.1</li><li>5.1</li><li>5.1</li><li>5.1</li><li>5</li><li>5</li><li>5</li><li>5</li><li>5</li><li>5</li><li>5</li><li>5</li><li>5</li><li>5</li><li>5</li><li>5</li><li>5</li><li>5</li><li>5</li><li>5</li><li>5</li><li>5</li><li>4.9</li><li>4.9</li><li>4.9</li><li>4.9</li><li>4.8</li><li>4.8</li><li>4.7</li><li>4.7</li><li>4.7</li><li>4.7</li><li>4.7</li><li>4.7</li><li>4.6</li><li>4.6</li><li>4.6</li><li>4.6</li><li>4.6</li><li>4.5</li><li>4.4</li><li>4.4</li><li>4.4</li><li>4.4</li><li>4.3</li><li>4.3</li><li>4.3</li><li>4.3</li><li>4.3</li><li>4.2</li><li>4.2</li><li>4.2</li><li>4.1</li><li>4.1</li><li>4.1</li><li>4.1</li><li>4.1</li><li>4.1</li><li>4.1</li><li>4.1</li><li>4.1</li><li>4</li><li>4</li><li>4</li><li>4</li><li>4</li><li>4</li><li>4</li><li>4</li><li>4</li><li>4</li><li>4</li><li>4</li><li>4</li><li>4</li><li>4</li><li>3.9</li><li>3.9</li><li>3.9</li><li>3.8</li><li>3.8</li><li>3.8</li><li>3.5</li><li>3.5</li><li>3.5</li><li>3.5</li><li>3.5</li><li>3.4</li><li>3.4</li><li>3.3</li><li>3.3</li><li>3</li><li>3</li><li>3</li><li>3</li><li>3</li><li>3</li><li>2.3</li><li>2.3</li><li>2.1</li></ol>\n"
            ]
          },
          "metadata": {}
        }
      ]
    },
    {
      "cell_type": "code",
      "metadata": {
        "colab": {
          "base_uri": "https://localhost:8080/",
          "height": 55
        },
        "id": "10cnKB35SiOS",
        "outputId": "71f46bba-bb0c-46cc-ff6e-1a827d634b7d"
      },
      "source": [
        "summary(x)"
      ],
      "execution_count": 44,
      "outputs": [
        {
          "output_type": "display_data",
          "data": {
            "text/plain": [
              "   Min. 1st Qu.  Median    Mean 3rd Qu.    Max. \n",
              "  2.100   4.600   5.400   5.354   6.200   7.900 "
            ]
          },
          "metadata": {}
        }
      ]
    },
    {
      "cell_type": "code",
      "metadata": {
        "colab": {
          "base_uri": "https://localhost:8080/",
          "height": 87
        },
        "id": "SVNAQrVLSq9s",
        "outputId": "3da7ae03-bf25-412c-8453-7f1328624f0e"
      },
      "source": [
        "quantile(x, 1/4)\n",
        "quantile(x, 2/4)\n",
        "quantile(x, 3/4)\n",
        "quantile(x, 4/4)"
      ],
      "execution_count": 46,
      "outputs": [
        {
          "output_type": "display_data",
          "data": {
            "text/plain": [
              "25% \n",
              "4.6 "
            ],
            "text/latex": "\\textbf{25\\textbackslash{}\\%:} 4.6",
            "text/markdown": "**25%:** 4.6",
            "text/html": [
              "<strong>25%:</strong> 4.6"
            ]
          },
          "metadata": {}
        },
        {
          "output_type": "display_data",
          "data": {
            "text/plain": [
              "50% \n",
              "5.4 "
            ],
            "text/latex": "\\textbf{50\\textbackslash{}\\%:} 5.4",
            "text/markdown": "**50%:** 5.4",
            "text/html": [
              "<strong>50%:</strong> 5.4"
            ]
          },
          "metadata": {}
        },
        {
          "output_type": "display_data",
          "data": {
            "text/plain": [
              "75% \n",
              "6.2 "
            ],
            "text/latex": "\\textbf{75\\textbackslash{}\\%:} 6.2",
            "text/markdown": "**75%:** 6.2",
            "text/html": [
              "<strong>75%:</strong> 6.2"
            ]
          },
          "metadata": {}
        },
        {
          "output_type": "display_data",
          "data": {
            "text/plain": [
              "100% \n",
              " 7.9 "
            ],
            "text/latex": "\\textbf{100\\textbackslash{}\\%:} 7.9",
            "text/markdown": "**100%:** 7.9",
            "text/html": [
              "<strong>100%:</strong> 7.9"
            ]
          },
          "metadata": {}
        }
      ]
    },
    {
      "cell_type": "code",
      "metadata": {
        "colab": {
          "base_uri": "https://localhost:8080/",
          "height": 35
        },
        "id": "BUOTrjTGS0Gm",
        "outputId": "9ec79954-2e5a-45a4-a54d-0ea0983b9f76"
      },
      "source": [
        "length(x)\n"
      ],
      "execution_count": 47,
      "outputs": [
        {
          "output_type": "display_data",
          "data": {
            "text/plain": [
              "[1] 248"
            ],
            "text/latex": "248",
            "text/markdown": "248",
            "text/html": [
              "248"
            ]
          },
          "metadata": {}
        }
      ]
    },
    {
      "cell_type": "code",
      "metadata": {
        "id": "LS2okTUuTFvj"
      },
      "source": [
        "x.t <- table(x)"
      ],
      "execution_count": 49,
      "outputs": []
    },
    {
      "cell_type": "code",
      "metadata": {
        "colab": {
          "base_uri": "https://localhost:8080/",
          "height": 35
        },
        "id": "Mwkx2QwGTOWC",
        "outputId": "393e359a-4305-4bb9-c678-010bf924f7c9"
      },
      "source": [
        "max(x.t)"
      ],
      "execution_count": 50,
      "outputs": [
        {
          "output_type": "display_data",
          "data": {
            "text/plain": [
              "[1] 18"
            ],
            "text/latex": "18",
            "text/markdown": "18",
            "text/html": [
              "18"
            ]
          },
          "metadata": {}
        }
      ]
    },
    {
      "cell_type": "code",
      "metadata": {
        "id": "YKQhqKEBTRZ8"
      },
      "source": [
        "x.m <- rbind(x.t)"
      ],
      "execution_count": 51,
      "outputs": []
    },
    {
      "cell_type": "code",
      "metadata": {
        "colab": {
          "base_uri": "https://localhost:8080/",
          "height": 118
        },
        "id": "p298owItTm_Y",
        "outputId": "1e4fbb4c-767e-4fa6-bbb6-0cffeee773c1"
      },
      "source": [
        "x.m"
      ],
      "execution_count": 52,
      "outputs": [
        {
          "output_type": "display_data",
          "data": {
            "text/plain": [
              "    2.1 2.3 3 3.3 3.4 3.5 3.8 3.9 4  4.1 ⋯ 6.4 6.5 6.7 6.8 6.9 7 7.1 7.2 7.7\n",
              "x.t 1   2   6 2   2   5   3   3   15 9   ⋯ 11  4   8   4   4   3 3   2   4  \n",
              "    7.9\n",
              "x.t 2  "
            ],
            "text/latex": "A matrix: 1 × 42 of type int\n\\begin{tabular}{r|lllllllllllllllllllll}\n  & 2.1 & 2.3 & 3 & 3.3 & 3.4 & 3.5 & 3.8 & 3.9 & 4 & 4.1 & ⋯ & 6.4 & 6.5 & 6.7 & 6.8 & 6.9 & 7 & 7.1 & 7.2 & 7.7 & 7.9\\\\\n\\hline\n\tx.t & 1 & 2 & 6 & 2 & 2 & 5 & 3 & 3 & 15 & 9 & ⋯ & 11 & 4 & 8 & 4 & 4 & 3 & 3 & 2 & 4 & 2\\\\\n\\end{tabular}\n",
            "text/markdown": "\nA matrix: 1 × 42 of type int\n\n| <!--/--> | 2.1 | 2.3 | 3 | 3.3 | 3.4 | 3.5 | 3.8 | 3.9 | 4 | 4.1 | ⋯ | 6.4 | 6.5 | 6.7 | 6.8 | 6.9 | 7 | 7.1 | 7.2 | 7.7 | 7.9 |\n|---|---|---|---|---|---|---|---|---|---|---|---|---|---|---|---|---|---|---|---|---|---|\n| x.t | 1 | 2 | 6 | 2 | 2 | 5 | 3 | 3 | 15 | 9 | ⋯ | 11 | 4 | 8 | 4 | 4 | 3 | 3 | 2 | 4 | 2 |\n\n",
            "text/html": [
              "<table class=\"dataframe\">\n",
              "<caption>A matrix: 1 × 42 of type int</caption>\n",
              "<thead>\n",
              "\t<tr><th></th><th scope=col>2.1</th><th scope=col>2.3</th><th scope=col>3</th><th scope=col>3.3</th><th scope=col>3.4</th><th scope=col>3.5</th><th scope=col>3.8</th><th scope=col>3.9</th><th scope=col>4</th><th scope=col>4.1</th><th scope=col>⋯</th><th scope=col>6.4</th><th scope=col>6.5</th><th scope=col>6.7</th><th scope=col>6.8</th><th scope=col>6.9</th><th scope=col>7</th><th scope=col>7.1</th><th scope=col>7.2</th><th scope=col>7.7</th><th scope=col>7.9</th></tr>\n",
              "</thead>\n",
              "<tbody>\n",
              "\t<tr><th scope=row>x.t</th><td>1</td><td>2</td><td>6</td><td>2</td><td>2</td><td>5</td><td>3</td><td>3</td><td>15</td><td>9</td><td>⋯</td><td>11</td><td>4</td><td>8</td><td>4</td><td>4</td><td>3</td><td>3</td><td>2</td><td>4</td><td>2</td></tr>\n",
              "</tbody>\n",
              "</table>\n"
            ]
          },
          "metadata": {}
        }
      ]
    },
    {
      "cell_type": "code",
      "metadata": {
        "colab": {
          "base_uri": "https://localhost:8080/"
        },
        "id": "Rexz_RlhToYU",
        "outputId": "089a4d24-0bb2-45e0-eb88-49ae2c5b4a07"
      },
      "source": [
        "str(x.m)"
      ],
      "execution_count": 54,
      "outputs": [
        {
          "output_type": "stream",
          "name": "stdout",
          "text": [
            " int [1, 1:42] 1 2 6 2 2 5 3 3 15 9 ...\n",
            " - attr(*, \"dimnames\")=List of 2\n",
            "  ..$ : chr \"x.t\"\n",
            "  ..$ : chr [1:42] \"2.1\" \"2.3\" \"3\" \"3.3\" ...\n"
          ]
        }
      ]
    },
    {
      "cell_type": "code",
      "metadata": {
        "id": "6bKS2WNMTtl3"
      },
      "source": [
        "x.df <- as.data.frame(x.m)"
      ],
      "execution_count": 55,
      "outputs": []
    },
    {
      "cell_type": "code",
      "metadata": {
        "colab": {
          "base_uri": "https://localhost:8080/",
          "height": 149
        },
        "id": "dkxvQP0GT5zk",
        "outputId": "833b775d-0301-48f9-d079-59b6ae6c9fda"
      },
      "source": [
        "x.df"
      ],
      "execution_count": 56,
      "outputs": [
        {
          "output_type": "display_data",
          "data": {
            "text/plain": [
              "    2.1 2.3 3 3.3 3.4 3.5 3.8 3.9 4  4.1 ⋯ 6.4 6.5 6.7 6.8 6.9 7 7.1 7.2 7.7\n",
              "x.t 1   2   6 2   2   5   3   3   15 9   ⋯ 11  4   8   4   4   3 3   2   4  \n",
              "    7.9\n",
              "x.t 2  "
            ],
            "text/latex": "A data.frame: 1 × 42\n\\begin{tabular}{r|lllllllllllllllllllll}\n  & 2.1 & 2.3 & 3 & 3.3 & 3.4 & 3.5 & 3.8 & 3.9 & 4 & 4.1 & ⋯ & 6.4 & 6.5 & 6.7 & 6.8 & 6.9 & 7 & 7.1 & 7.2 & 7.7 & 7.9\\\\\n  & <int> & <int> & <int> & <int> & <int> & <int> & <int> & <int> & <int> & <int> & ⋯ & <int> & <int> & <int> & <int> & <int> & <int> & <int> & <int> & <int> & <int>\\\\\n\\hline\n\tx.t & 1 & 2 & 6 & 2 & 2 & 5 & 3 & 3 & 15 & 9 & ⋯ & 11 & 4 & 8 & 4 & 4 & 3 & 3 & 2 & 4 & 2\\\\\n\\end{tabular}\n",
            "text/markdown": "\nA data.frame: 1 × 42\n\n| <!--/--> | 2.1 &lt;int&gt; | 2.3 &lt;int&gt; | 3 &lt;int&gt; | 3.3 &lt;int&gt; | 3.4 &lt;int&gt; | 3.5 &lt;int&gt; | 3.8 &lt;int&gt; | 3.9 &lt;int&gt; | 4 &lt;int&gt; | 4.1 &lt;int&gt; | ⋯ ⋯ | 6.4 &lt;int&gt; | 6.5 &lt;int&gt; | 6.7 &lt;int&gt; | 6.8 &lt;int&gt; | 6.9 &lt;int&gt; | 7 &lt;int&gt; | 7.1 &lt;int&gt; | 7.2 &lt;int&gt; | 7.7 &lt;int&gt; | 7.9 &lt;int&gt; |\n|---|---|---|---|---|---|---|---|---|---|---|---|---|---|---|---|---|---|---|---|---|---|\n| x.t | 1 | 2 | 6 | 2 | 2 | 5 | 3 | 3 | 15 | 9 | ⋯ | 11 | 4 | 8 | 4 | 4 | 3 | 3 | 2 | 4 | 2 |\n\n",
            "text/html": [
              "<table class=\"dataframe\">\n",
              "<caption>A data.frame: 1 × 42</caption>\n",
              "<thead>\n",
              "\t<tr><th></th><th scope=col>2.1</th><th scope=col>2.3</th><th scope=col>3</th><th scope=col>3.3</th><th scope=col>3.4</th><th scope=col>3.5</th><th scope=col>3.8</th><th scope=col>3.9</th><th scope=col>4</th><th scope=col>4.1</th><th scope=col>⋯</th><th scope=col>6.4</th><th scope=col>6.5</th><th scope=col>6.7</th><th scope=col>6.8</th><th scope=col>6.9</th><th scope=col>7</th><th scope=col>7.1</th><th scope=col>7.2</th><th scope=col>7.7</th><th scope=col>7.9</th></tr>\n",
              "\t<tr><th></th><th scope=col>&lt;int&gt;</th><th scope=col>&lt;int&gt;</th><th scope=col>&lt;int&gt;</th><th scope=col>&lt;int&gt;</th><th scope=col>&lt;int&gt;</th><th scope=col>&lt;int&gt;</th><th scope=col>&lt;int&gt;</th><th scope=col>&lt;int&gt;</th><th scope=col>&lt;int&gt;</th><th scope=col>&lt;int&gt;</th><th scope=col>⋯</th><th scope=col>&lt;int&gt;</th><th scope=col>&lt;int&gt;</th><th scope=col>&lt;int&gt;</th><th scope=col>&lt;int&gt;</th><th scope=col>&lt;int&gt;</th><th scope=col>&lt;int&gt;</th><th scope=col>&lt;int&gt;</th><th scope=col>&lt;int&gt;</th><th scope=col>&lt;int&gt;</th><th scope=col>&lt;int&gt;</th></tr>\n",
              "</thead>\n",
              "<tbody>\n",
              "\t<tr><th scope=row>x.t</th><td>1</td><td>2</td><td>6</td><td>2</td><td>2</td><td>5</td><td>3</td><td>3</td><td>15</td><td>9</td><td>⋯</td><td>11</td><td>4</td><td>8</td><td>4</td><td>4</td><td>3</td><td>3</td><td>2</td><td>4</td><td>2</td></tr>\n",
              "</tbody>\n",
              "</table>\n"
            ]
          },
          "metadata": {}
        }
      ]
    },
    {
      "cell_type": "code",
      "metadata": {
        "colab": {
          "base_uri": "https://localhost:8080/",
          "height": 35
        },
        "id": "1HYbohovT669",
        "outputId": "b0e16ec2-4c38-432f-af25-0c5e1b6b4376"
      },
      "source": [
        "which(x.m[1,]==18)"
      ],
      "execution_count": 57,
      "outputs": [
        {
          "output_type": "display_data",
          "data": {
            "text/plain": [
              " 5 \n",
              "19 "
            ],
            "text/latex": "\\textbf{5:} 19",
            "text/markdown": "**5:** 19",
            "text/html": [
              "<strong>5:</strong> 19"
            ]
          },
          "metadata": {}
        }
      ]
    },
    {
      "cell_type": "code",
      "metadata": {
        "colab": {
          "base_uri": "https://localhost:8080/",
          "height": 35
        },
        "id": "gGLpDjYmUD8S",
        "outputId": "6a03b869-63de-4412-bb65-535412b9ff88"
      },
      "source": [
        "x.df[1,19]"
      ],
      "execution_count": 58,
      "outputs": [
        {
          "output_type": "display_data",
          "data": {
            "text/plain": [
              "[1] 18"
            ],
            "text/latex": "18",
            "text/markdown": "18",
            "text/html": [
              "18"
            ]
          },
          "metadata": {}
        }
      ]
    },
    {
      "cell_type": "code",
      "metadata": {
        "colab": {
          "base_uri": "https://localhost:8080/",
          "height": 35
        },
        "id": "t_lDtF6AUVCb",
        "outputId": "f20f1e99-46cd-417c-83b7-e44f2405b693"
      },
      "source": [
        "# 산포도 구하기 (대표값으로 부터 얼마 흩어져 분포하고 있는지)\n",
        "\n",
        "var(x)\n",
        "\n",
        "# 분산의 값이 0에 가까울수록 평균에 집중되어 흩어짐이 없다는 의미"
      ],
      "execution_count": 59,
      "outputs": [
        {
          "output_type": "display_data",
          "data": {
            "text/plain": [
              "[1] 1.296826"
            ],
            "text/latex": "1.29682578033172",
            "text/markdown": "1.29682578033172",
            "text/html": [
              "1.29682578033172"
            ]
          },
          "metadata": {}
        }
      ]
    },
    {
      "cell_type": "code",
      "metadata": {
        "colab": {
          "base_uri": "https://localhost:8080/",
          "height": 35
        },
        "id": "szbdAgZkUsK_",
        "outputId": "cb7893ff-175d-4b66-d940-6d59e302ded7"
      },
      "source": [
        "sd(x)"
      ],
      "execution_count": 60,
      "outputs": [
        {
          "output_type": "display_data",
          "data": {
            "text/plain": [
              "[1] 1.138783"
            ],
            "text/latex": "1.13878258694613",
            "text/markdown": "1.13878258694613",
            "text/html": [
              "1.13878258694613"
            ]
          },
          "metadata": {}
        }
      ]
    },
    {
      "cell_type": "code",
      "metadata": {
        "id": "aj3ou3xzUv3O"
      },
      "source": [
        ""
      ],
      "execution_count": null,
      "outputs": []
    },
    {
      "cell_type": "code",
      "metadata": {
        "colab": {
          "base_uri": "https://localhost:8080/",
          "height": 148
        },
        "id": "hFalbnZTTr2N",
        "outputId": "ac6fb5d4-1a1e-45ad-f337-f7a9f2f63820"
      },
      "source": [
        "table(data$cost)"
      ],
      "execution_count": 61,
      "outputs": [
        {
          "output_type": "display_data",
          "data": {
            "text/plain": [
              "\n",
              "2.1 2.3   3 3.3 3.4 3.5 3.8 3.9   4 4.1 4.2 4.3 4.4 4.5 4.6 4.7 4.8 4.9   5 5.1 \n",
              "  1   2   6   2   2   5   3   3  15   9   3   5   4   1   5   6   2   4  18  10 \n",
              "5.2 5.3 5.4 5.5 5.6 5.7 5.8 5.9   6 6.1 6.2 6.3 6.4 6.5 6.7 6.8 6.9   7 7.1 7.2 \n",
              "  9   7   5   8   4   6   5   2  14   8  13  16  11   4   8   4   4   3   3   2 \n",
              "7.7 7.9 \n",
              "  4   2 "
            ]
          },
          "metadata": {}
        }
      ]
    },
    {
      "cell_type": "code",
      "metadata": {
        "colab": {
          "base_uri": "https://localhost:8080/",
          "height": 437
        },
        "id": "dnjQHJW-YHUh",
        "outputId": "096835b8-2d93-4bf5-b82b-0864ff832d80"
      },
      "source": [
        "hist(data$cost)"
      ],
      "execution_count": 62,
      "outputs": [
        {
          "output_type": "display_data",
          "data": {
            "image/png": "[encoded data removed]",
            "text/plain": [
              "Plot with title “Histogram of data$cost”"
            ]
          },
          "metadata": {
            "image/png": {
              "width": 420,
              "height": 420
            }
          }
        }
      ]
    },
    {
      "cell_type": "code",
      "metadata": {
        "colab": {
          "base_uri": "https://localhost:8080/",
          "height": 437
        },
        "id": "EveVHhF-YNJN",
        "outputId": "093d4ff9-85dc-40c8-dae9-81eee4403292"
      },
      "source": [
        "plot(data$cost)"
      ],
      "execution_count": 63,
      "outputs": [
        {
          "output_type": "display_data",
          "data": {
            "image/png": "[encoded data removed]",
            "text/plain": [
              "plot without title"
            ]
          },
          "metadata": {
            "image/png": {
              "width": 420,
              "height": 420
            }
          }
        }
      ]
    },
    {
      "cell_type": "code",
      "metadata": {
        "colab": {
          "base_uri": "https://localhost:8080/",
          "height": 129
        },
        "id": "3nrf4EkTYU8N",
        "outputId": "1ca5a417-6372-40f0-f3fa-bca535aeba78"
      },
      "source": [
        "head(data,1)"
      ],
      "execution_count": 64,
      "outputs": [
        {
          "output_type": "display_data",
          "data": {
            "text/plain": [
              "  resident gender age level cost type survey pass\n",
              "1 1        1      50  1     5.1  1    1      2   "
            ],
            "text/latex": "A data.frame: 1 × 8\n\\begin{tabular}{r|llllllll}\n  & resident & gender & age & level & cost & type & survey & pass\\\\\n  & <int> & <int> & <int> & <int> & <dbl> & <int> & <int> & <int>\\\\\n\\hline\n\t1 & 1 & 1 & 50 & 1 & 5.1 & 1 & 1 & 2\\\\\n\\end{tabular}\n",
            "text/markdown": "\nA data.frame: 1 × 8\n\n| <!--/--> | resident &lt;int&gt; | gender &lt;int&gt; | age &lt;int&gt; | level &lt;int&gt; | cost &lt;dbl&gt; | type &lt;int&gt; | survey &lt;int&gt; | pass &lt;int&gt; |\n|---|---|---|---|---|---|---|---|---|\n| 1 | 1 | 1 | 50 | 1 | 5.1 | 1 | 1 | 2 |\n\n",
            "text/html": [
              "<table class=\"dataframe\">\n",
              "<caption>A data.frame: 1 × 8</caption>\n",
              "<thead>\n",
              "\t<tr><th></th><th scope=col>resident</th><th scope=col>gender</th><th scope=col>age</th><th scope=col>level</th><th scope=col>cost</th><th scope=col>type</th><th scope=col>survey</th><th scope=col>pass</th></tr>\n",
              "\t<tr><th></th><th scope=col>&lt;int&gt;</th><th scope=col>&lt;int&gt;</th><th scope=col>&lt;int&gt;</th><th scope=col>&lt;int&gt;</th><th scope=col>&lt;dbl&gt;</th><th scope=col>&lt;int&gt;</th><th scope=col>&lt;int&gt;</th><th scope=col>&lt;int&gt;</th></tr>\n",
              "</thead>\n",
              "<tbody>\n",
              "\t<tr><th scope=row>1</th><td>1</td><td>1</td><td>50</td><td>1</td><td>5.1</td><td>1</td><td>1</td><td>2</td></tr>\n",
              "</tbody>\n",
              "</table>\n"
            ]
          },
          "metadata": {}
        }
      ]
    },
    {
      "cell_type": "code",
      "metadata": {
        "id": "vPDXzO9VYgrx"
      },
      "source": [
        "data$cost2[data$cost >= 1 & data$cost <= 3] <- 1\n",
        "data$cost2[data$cost >= 4 & data$cost <= 6] <- 2\n",
        "data$cost2[data$cost >= 7] <- 3"
      ],
      "execution_count": 68,
      "outputs": []
    },
    {
      "cell_type": "code",
      "metadata": {
        "colab": {
          "base_uri": "https://localhost:8080/",
          "height": 73
        },
        "id": "CEBU7OMgY8Oh",
        "outputId": "7cbe7e9e-d3bb-406b-9fe3-84ece472cc05"
      },
      "source": [
        "table(data$cost2)"
      ],
      "execution_count": 69,
      "outputs": [
        {
          "output_type": "display_data",
          "data": {
            "text/plain": [
              "\n",
              "  1   2   3 \n",
              "  9 142  14 "
            ]
          },
          "metadata": {}
        }
      ]
    },
    {
      "cell_type": "code",
      "metadata": {
        "colab": {
          "base_uri": "https://localhost:8080/",
          "height": 437
        },
        "id": "Gd_PtM4_ZMUT",
        "outputId": "14c29dd4-0fd2-479d-f27d-6363867d0c22"
      },
      "source": [
        "barplot(table(data$cost2))"
      ],
      "execution_count": 70,
      "outputs": [
        {
          "output_type": "display_data",
          "data": {
            "image/png": "[encoded data removed]",
            "text/plain": [
              "plot without title"
            ]
          },
          "metadata": {
            "image/png": {
              "width": 420,
              "height": 420
            }
          }
        }
      ]
    },
    {
      "cell_type": "code",
      "metadata": {
        "colab": {
          "base_uri": "https://localhost:8080/",
          "height": 437
        },
        "id": "tEJ8dUN3ZfFO",
        "outputId": "e0de2b42-6797-4978-e05b-c904c5d22dc8"
      },
      "source": [
        "pie(table(data$cost2))\n"
      ],
      "execution_count": 71,
      "outputs": [
        {
          "output_type": "display_data",
          "data": {
            "image/png": "[encoded data removed]",
            "text/plain": [
              "plot without title"
            ]
          },
          "metadata": {
            "image/png": {
              "width": 420,
              "height": 420
            }
          }
        }
      ]
    },
    {
      "cell_type": "code",
      "metadata": {
        "id": "9mDr628RZtWk"
      },
      "source": [
        "# 비대칭도 구하기 - 데이터의 분포가 정규분포를 갖는지 확인\n",
        "\n",
        "# 왜도 - 평균을 중심으로 비대칭 정도를 나타낸다. \n",
        "# 첨도 - 정규분포와 비교하여 얼마나 뾰족한가를 나타낸다. "
      ],
      "execution_count": null,
      "outputs": []
    },
    {
      "cell_type": "code",
      "metadata": {
        "colab": {
          "base_uri": "https://localhost:8080/"
        },
        "id": "VR1Bdv4AaPba",
        "outputId": "5345963a-4bc3-43ee-904c-be1421143b23"
      },
      "source": [
        "install.packages(\"moments\")\n",
        "library(moments)"
      ],
      "execution_count": 73,
      "outputs": [
        {
          "output_type": "stream",
          "name": "stderr",
          "text": [
            "Installing package into ‘/usr/local/lib/R/site-library’\n",
            "(as ‘lib’ is unspecified)\n",
            "\n"
          ]
        }
      ]
    },
    {
      "cell_type": "code",
      "metadata": {
        "id": "BUxqO8_7aaYf"
      },
      "source": [
        "cost <- data$cost"
      ],
      "execution_count": 74,
      "outputs": []
    },
    {
      "cell_type": "code",
      "metadata": {
        "colab": {
          "base_uri": "https://localhost:8080/",
          "height": 35
        },
        "id": "WISTq8eQaf8J",
        "outputId": "31f8ce03-938f-404f-cb4d-2ae4784dfe38"
      },
      "source": [
        "#왜도\n",
        "skewness(cost)\n",
        "# 3보다 작으면 정규분포 보다 뾰족한 형태.\n"
      ],
      "execution_count": 75,
      "outputs": [
        {
          "output_type": "display_data",
          "data": {
            "text/plain": [
              "[1] -0.297234"
            ],
            "text/latex": "-0.297234001541841",
            "text/markdown": "-0.297234001541841",
            "text/html": [
              "-0.297234001541841"
            ]
          },
          "metadata": {}
        }
      ]
    },
    {
      "cell_type": "code",
      "metadata": {
        "colab": {
          "base_uri": "https://localhost:8080/",
          "height": 35
        },
        "id": "u0E_udo4ajSD",
        "outputId": "1581d9e1-9ab0-4f78-d557-8919773787a5"
      },
      "source": [
        "# 첨도\n",
        "kurtosis(cost)\n",
        "# 3보다 작으면 완만한 형태를 갖는다. "
      ],
      "execution_count": 76,
      "outputs": [
        {
          "output_type": "display_data",
          "data": {
            "text/plain": [
              "[1] 2.674163"
            ],
            "text/latex": "2.6741627498628",
            "text/markdown": "2.6741627498628",
            "text/html": [
              "2.6741627498628"
            ]
          },
          "metadata": {}
        }
      ]
    },
    {
      "cell_type": "code",
      "metadata": {
        "colab": {
          "base_uri": "https://localhost:8080/",
          "height": 437
        },
        "id": "W7m_p5sHa5-b",
        "outputId": "108372bc-d381-444c-906e-0178cf90ddbd"
      },
      "source": [
        "hist(cost)"
      ],
      "execution_count": 77,
      "outputs": [
        {
          "output_type": "display_data",
          "data": {
            "image/png": "[encoded data removed]",
            "text/plain": [
              "Plot with title “Histogram of cost”"
            ]
          },
          "metadata": {
            "image/png": {
              "width": 420,
              "height": 420
            }
          }
        }
      ]
    },
    {
      "cell_type": "code",
      "metadata": {
        "colab": {
          "base_uri": "https://localhost:8080/",
          "height": 437
        },
        "id": "BHoGkxJ-bHvd",
        "outputId": "9b6830b0-5d91-4b34-ac6a-5f91e52446cf"
      },
      "source": [
        "hist(cost, freq = F)\n",
        "lines(density(cost), col = 'blue')\n",
        "x <- seq(0,8,0.1)\n",
        "curve(dnorm(x, mean(cost), sd(cost)), col='red', add=T)"
      ],
      "execution_count": 79,
      "outputs": [
        {
          "output_type": "display_data",
          "data": {
            "image/png": "[encoded data removed]",
            "text/plain": [
              "Plot with title “Histogram of cost”"
            ]
          },
          "metadata": {
            "image/png": {
              "width": 420,
              "height": 420
            }
          }
        }
      ]
    },
    {
      "cell_type": "code",
      "metadata": {
        "colab": {
          "base_uri": "https://localhost:8080/"
        },
        "id": "PPIbZN6OaR9H",
        "outputId": "f6bf5031-7443-47b0-da74-a04a355252fb"
      },
      "source": [
        "attach(data)"
      ],
      "execution_count": 80,
      "outputs": [
        {
          "output_type": "stream",
          "name": "stderr",
          "text": [
            "The following objects are masked _by_ .GlobalEnv:\n",
            "\n",
            "    cost, survey\n",
            "\n",
            "\n"
          ]
        }
      ]
    },
    {
      "cell_type": "code",
      "metadata": {
        "colab": {
          "base_uri": "https://localhost:8080/",
          "height": 35
        },
        "id": "SOLpKX5WcHxx",
        "outputId": "6f87fdb5-f6f3-458f-8c06-894a708a2929"
      },
      "source": [
        "length(cost)"
      ],
      "execution_count": 81,
      "outputs": [
        {
          "output_type": "display_data",
          "data": {
            "text/plain": [
              "[1] 248"
            ],
            "text/latex": "248",
            "text/markdown": "248",
            "text/html": [
              "248"
            ]
          },
          "metadata": {}
        }
      ]
    },
    {
      "cell_type": "code",
      "metadata": {
        "colab": {
          "base_uri": "https://localhost:8080/",
          "height": 55
        },
        "id": "5y77zc-vcK58",
        "outputId": "536c12db-bf2b-484d-ba55-6d708bd40f8d"
      },
      "source": [
        "summary(cost)"
      ],
      "execution_count": 82,
      "outputs": [
        {
          "output_type": "display_data",
          "data": {
            "text/plain": [
              "   Min. 1st Qu.  Median    Mean 3rd Qu.    Max. \n",
              "  2.100   4.600   5.400   5.354   6.200   7.900 "
            ]
          },
          "metadata": {}
        }
      ]
    },
    {
      "cell_type": "code",
      "metadata": {
        "id": "PunC4AOJcNue"
      },
      "source": [
        "detach(data)"
      ],
      "execution_count": 83,
      "outputs": []
    },
    {
      "cell_type": "code",
      "metadata": {
        "colab": {
          "base_uri": "https://localhost:8080/",
          "height": 161
        },
        "id": "pbp4b6WAcdWr",
        "outputId": "fa65e5f8-49c8-461f-84e3-bcb48c5ced71"
      },
      "source": [
        "head(data,2)"
      ],
      "execution_count": 86,
      "outputs": [
        {
          "output_type": "display_data",
          "data": {
            "text/plain": [
              "  resident gender age level cost type survey pass cost2\n",
              "1 1        1      50  1     5.1  1    1      2    2    \n",
              "2 2        1      54  2     4.2  1    2      2    2    "
            ],
            "text/latex": "A data.frame: 2 × 9\n\\begin{tabular}{r|lllllllll}\n  & resident & gender & age & level & cost & type & survey & pass & cost2\\\\\n  & <int> & <int> & <int> & <int> & <dbl> & <int> & <int> & <int> & <dbl>\\\\\n\\hline\n\t1 & 1 & 1 & 50 & 1 & 5.1 & 1 & 1 & 2 & 2\\\\\n\t2 & 2 & 1 & 54 & 2 & 4.2 & 1 & 2 & 2 & 2\\\\\n\\end{tabular}\n",
            "text/markdown": "\nA data.frame: 2 × 9\n\n| <!--/--> | resident &lt;int&gt; | gender &lt;int&gt; | age &lt;int&gt; | level &lt;int&gt; | cost &lt;dbl&gt; | type &lt;int&gt; | survey &lt;int&gt; | pass &lt;int&gt; | cost2 &lt;dbl&gt; |\n|---|---|---|---|---|---|---|---|---|---|\n| 1 | 1 | 1 | 50 | 1 | 5.1 | 1 | 1 | 2 | 2 |\n| 2 | 2 | 1 | 54 | 2 | 4.2 | 1 | 2 | 2 | 2 |\n\n",
            "text/html": [
              "<table class=\"dataframe\">\n",
              "<caption>A data.frame: 2 × 9</caption>\n",
              "<thead>\n",
              "\t<tr><th></th><th scope=col>resident</th><th scope=col>gender</th><th scope=col>age</th><th scope=col>level</th><th scope=col>cost</th><th scope=col>type</th><th scope=col>survey</th><th scope=col>pass</th><th scope=col>cost2</th></tr>\n",
              "\t<tr><th></th><th scope=col>&lt;int&gt;</th><th scope=col>&lt;int&gt;</th><th scope=col>&lt;int&gt;</th><th scope=col>&lt;int&gt;</th><th scope=col>&lt;dbl&gt;</th><th scope=col>&lt;int&gt;</th><th scope=col>&lt;int&gt;</th><th scope=col>&lt;int&gt;</th><th scope=col>&lt;dbl&gt;</th></tr>\n",
              "</thead>\n",
              "<tbody>\n",
              "\t<tr><th scope=row>1</th><td>1</td><td>1</td><td>50</td><td>1</td><td>5.1</td><td>1</td><td>1</td><td>2</td><td>2</td></tr>\n",
              "\t<tr><th scope=row>2</th><td>2</td><td>1</td><td>54</td><td>2</td><td>4.2</td><td>1</td><td>2</td><td>2</td><td>2</td></tr>\n",
              "</tbody>\n",
              "</table>\n"
            ]
          },
          "metadata": {}
        }
      ]
    },
    {
      "cell_type": "code",
      "metadata": {
        "colab": {
          "base_uri": "https://localhost:8080/",
          "height": 73
        },
        "id": "DHckVJGacqXW",
        "outputId": "1de5eea2-ecc3-415a-d93e-f81be3cd7358"
      },
      "source": [
        "table(data$resident)"
      ],
      "execution_count": 88,
      "outputs": [
        {
          "output_type": "display_data",
          "data": {
            "text/plain": [
              "\n",
              "  1   2   3   4   5 \n",
              "110  46  26  15  34 "
            ]
          },
          "metadata": {}
        }
      ]
    },
    {
      "cell_type": "code",
      "metadata": {
        "id": "EYQJtNFYc0xk"
      },
      "source": [
        "data$resident2[data$resident == 1] <- '특별시'\n",
        "data$resident2[data$resident >= 2 & data$resident <= 4] <- '광역시'\n",
        "data$resident2[data$resident == 5] <- '시군구'"
      ],
      "execution_count": 89,
      "outputs": []
    },
    {
      "cell_type": "code",
      "metadata": {
        "id": "UjH6qV2NcxVf"
      },
      "source": [
        "x <- table(data$resident2)"
      ],
      "execution_count": 91,
      "outputs": []
    },
    {
      "cell_type": "code",
      "metadata": {
        "colab": {
          "base_uri": "https://localhost:8080/",
          "height": 73
        },
        "id": "wrOQ8UqydlUr",
        "outputId": "2b4bd434-3f7d-44bb-e1f3-5de47e52cfbf"
      },
      "source": [
        "prop.table(x)"
      ],
      "execution_count": 92,
      "outputs": [
        {
          "output_type": "display_data",
          "data": {
            "text/plain": [
              "\n",
              "   광역시    시군구    특별시 \n",
              "0.3766234 0.1471861 0.4761905 "
            ]
          },
          "metadata": {}
        }
      ]
    },
    {
      "cell_type": "code",
      "metadata": {
        "id": "6_XcTorCdnSF"
      },
      "source": [
        "# 성별 변수\n",
        " \n",
        "data$gender2[data$gender == 1] <- \"남자\"\n",
        "data$gender2[data$gender == 2] <- \"여자\""
      ],
      "execution_count": 93,
      "outputs": []
    },
    {
      "cell_type": "code",
      "metadata": {
        "id": "tfdidCkeeXFx"
      },
      "source": [
        "x <- table(data$gender2)"
      ],
      "execution_count": 96,
      "outputs": []
    },
    {
      "cell_type": "code",
      "metadata": {
        "colab": {
          "base_uri": "https://localhost:8080/",
          "height": 73
        },
        "id": "F03Dy5ODeauq",
        "outputId": "a8b84602-8684-464c-cdc6-6d9327c23574"
      },
      "source": [
        "prop.table(x)"
      ],
      "execution_count": 97,
      "outputs": [
        {
          "output_type": "display_data",
          "data": {
            "text/plain": [
              "\n",
              "     남자      여자 \n",
              "0.5887097 0.4112903 "
            ]
          },
          "metadata": {}
        }
      ]
    },
    {
      "cell_type": "code",
      "metadata": {
        "id": "1CVSTChiegXk"
      },
      "source": [
        "# 학력수준\n",
        "data$level2[data$level == 1] <- '고졸'\n",
        "data$level2[data$level == 2] <- '대졸'\n",
        "data$level2[data$level == 3] <- '대학원졸'\n"
      ],
      "execution_count": 98,
      "outputs": []
    },
    {
      "cell_type": "code",
      "metadata": {
        "colab": {
          "base_uri": "https://localhost:8080/",
          "height": 73
        },
        "id": "JTPT7Wn6daQ4",
        "outputId": "e98afbc0-3437-458e-bed8-a1ad589e0711"
      },
      "source": [
        "x <- table(data$level2)\n",
        "prop.table(x)"
      ],
      "execution_count": 99,
      "outputs": [
        {
          "output_type": "display_data",
          "data": {
            "text/plain": [
              "\n",
              "     고졸      대졸  대학원졸 \n",
              "0.3940678 0.3644068 0.2415254 "
            ]
          },
          "metadata": {}
        }
      ]
    },
    {
      "cell_type": "code",
      "metadata": {
        "colab": {
          "base_uri": "https://localhost:8080/",
          "height": 212
        },
        "id": "LRxPoRcRfSc0",
        "outputId": "28135b59-a616-494b-cd18-28dc5f2c8478"
      },
      "source": [
        "head(data,3)"
      ],
      "execution_count": 100,
      "outputs": [
        {
          "output_type": "display_data",
          "data": {
            "text/plain": [
              "  resident gender age level cost type survey pass cost2 resident2 gender2\n",
              "1  1       1      50  1     5.1  1    1      2    2     특별시    남자   \n",
              "2  2       1      54  2     4.2  1    2      2    2     광역시    남자   \n",
              "3 NA       1      62  2     4.7  1    1      1    2     NA        남자   \n",
              "  level2\n",
              "1 고졸  \n",
              "2 대졸  \n",
              "3 대졸  "
            ],
            "text/latex": "A data.frame: 3 × 12\n\\begin{tabular}{r|llllllllllll}\n  & resident & gender & age & level & cost & type & survey & pass & cost2 & resident2 & gender2 & level2\\\\\n  & <int> & <int> & <int> & <int> & <dbl> & <int> & <int> & <int> & <dbl> & <chr> & <chr> & <chr>\\\\\n\\hline\n\t1 &  1 & 1 & 50 & 1 & 5.1 & 1 & 1 & 2 & 2 & 특별시 & 남자 & 고졸\\\\\n\t2 &  2 & 1 & 54 & 2 & 4.2 & 1 & 2 & 2 & 2 & 광역시 & 남자 & 대졸\\\\\n\t3 & NA & 1 & 62 & 2 & 4.7 & 1 & 1 & 1 & 2 & NA     & 남자 & 대졸\\\\\n\\end{tabular}\n",
            "text/markdown": "\nA data.frame: 3 × 12\n\n| <!--/--> | resident &lt;int&gt; | gender &lt;int&gt; | age &lt;int&gt; | level &lt;int&gt; | cost &lt;dbl&gt; | type &lt;int&gt; | survey &lt;int&gt; | pass &lt;int&gt; | cost2 &lt;dbl&gt; | resident2 &lt;chr&gt; | gender2 &lt;chr&gt; | level2 &lt;chr&gt; |\n|---|---|---|---|---|---|---|---|---|---|---|---|---|\n| 1 |  1 | 1 | 50 | 1 | 5.1 | 1 | 1 | 2 | 2 | 특별시 | 남자 | 고졸 |\n| 2 |  2 | 1 | 54 | 2 | 4.2 | 1 | 2 | 2 | 2 | 광역시 | 남자 | 대졸 |\n| 3 | NA | 1 | 62 | 2 | 4.7 | 1 | 1 | 1 | 2 | NA     | 남자 | 대졸 |\n\n",
            "text/html": [
              "<table class=\"dataframe\">\n",
              "<caption>A data.frame: 3 × 12</caption>\n",
              "<thead>\n",
              "\t<tr><th></th><th scope=col>resident</th><th scope=col>gender</th><th scope=col>age</th><th scope=col>level</th><th scope=col>cost</th><th scope=col>type</th><th scope=col>survey</th><th scope=col>pass</th><th scope=col>cost2</th><th scope=col>resident2</th><th scope=col>gender2</th><th scope=col>level2</th></tr>\n",
              "\t<tr><th></th><th scope=col>&lt;int&gt;</th><th scope=col>&lt;int&gt;</th><th scope=col>&lt;int&gt;</th><th scope=col>&lt;int&gt;</th><th scope=col>&lt;dbl&gt;</th><th scope=col>&lt;int&gt;</th><th scope=col>&lt;int&gt;</th><th scope=col>&lt;int&gt;</th><th scope=col>&lt;dbl&gt;</th><th scope=col>&lt;chr&gt;</th><th scope=col>&lt;chr&gt;</th><th scope=col>&lt;chr&gt;</th></tr>\n",
              "</thead>\n",
              "<tbody>\n",
              "\t<tr><th scope=row>1</th><td> 1</td><td>1</td><td>50</td><td>1</td><td>5.1</td><td>1</td><td>1</td><td>2</td><td>2</td><td>특별시</td><td>남자</td><td>고졸</td></tr>\n",
              "\t<tr><th scope=row>2</th><td> 2</td><td>1</td><td>54</td><td>2</td><td>4.2</td><td>1</td><td>2</td><td>2</td><td>2</td><td>광역시</td><td>남자</td><td>대졸</td></tr>\n",
              "\t<tr><th scope=row>3</th><td>NA</td><td>1</td><td>62</td><td>2</td><td>4.7</td><td>1</td><td>1</td><td>1</td><td>2</td><td>NA    </td><td>남자</td><td>대졸</td></tr>\n",
              "</tbody>\n",
              "</table>\n"
            ]
          },
          "metadata": {}
        }
      ]
    },
    {
      "cell_type": "code",
      "metadata": {
        "id": "mRyKOxKPfVYv"
      },
      "source": [
        "data$age2[data$age <= 45] <- '중년층'\n",
        "data$age2[data$age >= 46 & data$age <= 59] <- '장년층'\n",
        "data$age2[data$age >= 60] <- '노년층'"
      ],
      "execution_count": 101,
      "outputs": []
    },
    {
      "cell_type": "code",
      "metadata": {
        "colab": {
          "base_uri": "https://localhost:8080/",
          "height": 73
        },
        "id": "K_kOqiRof94r",
        "outputId": "651fc9b3-5cd5-4dd7-ceca-42b30320efc1"
      },
      "source": [
        "x <- table(data$age2)\n",
        "prop.table(x)"
      ],
      "execution_count": 102,
      "outputs": [
        {
          "output_type": "display_data",
          "data": {
            "text/plain": [
              "\n",
              "    노년층     장년층     중년층 \n",
              "0.24596774 0.68145161 0.07258065 "
            ]
          },
          "metadata": {}
        }
      ]
    },
    {
      "cell_type": "code",
      "metadata": {
        "colab": {
          "base_uri": "https://localhost:8080/",
          "height": 73
        },
        "id": "fGWtt4dXgRU1",
        "outputId": "326d19cd-eade-4d3f-f67d-29e743091b62"
      },
      "source": [
        "# 합격 여부\n",
        "data$pass2[data$pass == 1] <-\"합격\"\n",
        "data$pass2[data$pass == 2] <-\"실패\"\n",
        "\n",
        "x <- table(data$pass2)\n",
        "prop.table(x)"
      ],
      "execution_count": 103,
      "outputs": [
        {
          "output_type": "display_data",
          "data": {
            "text/plain": [
              "\n",
              "     실패      합격 \n",
              "0.4085106 0.5914894 "
            ]
          },
          "metadata": {}
        }
      ]
    },
    {
      "cell_type": "code",
      "metadata": {
        "id": "SVnLC_dDgp50"
      },
      "source": [
        "# 교차분석 - 두 개이상 범주형 변수간의 관련성 여부 분석 \n",
        "#          - 빈도 분석 결과에 대한 보충\n",
        "\n",
        "# 카이제곱 - 교차분석 결과 분할표를 대상으로 변수간의 독립성과 관련성을 검정\n",
        "\n"
      ],
      "execution_count": null,
      "outputs": []
    }
  ]
}